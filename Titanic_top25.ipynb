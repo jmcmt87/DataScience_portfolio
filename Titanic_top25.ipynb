{
 "cells": [
  {
   "cell_type": "markdown",
   "metadata": {},
   "source": [
    "# Titanic Competition - Machine Learning from Disaster"
   ]
  },
  {
   "cell_type": "code",
   "execution_count": 597,
   "metadata": {},
   "outputs": [],
   "source": [
    "import pandas as pd\n",
    "import numpy as np\n",
    "import matplotlib.pyplot as plt\n",
    "import seaborn as sns\n",
    "from sklearn import preprocessing\n",
    "from sklearn.model_selection import train_test_split\n",
    "from sklearn.preprocessing import PowerTransformer\n",
    "from sklearn.linear_model import LogisticRegression\n",
    "from sklearn.metrics import accuracy_score\n",
    "from sklearn.model_selection import GridSearchCV\n",
    "from sklearn.model_selection import RandomizedSearchCV\n",
    "from sklearn.metrics import classification_report, confusion_matrix\n",
    "from sklearn.model_selection import cross_val_score\n",
    "from sklearn.ensemble import RandomForestClassifier\n",
    "from sklearn.ensemble import GradientBoostingClassifier\n",
    "from lightgbm import LGBMClassifier\n",
    "from xgboost import XGBClassifier\n",
    "from sklearn import ensemble\n",
    "from sklearn.ensemble import VotingClassifier\n",
    "from sklearn.ensemble import StackingClassifier\n",
    "import warnings\n",
    "warnings.filterwarnings(\"ignore\")\n",
    "\n",
    "%matplotlib inline"
   ]
  },
  {
   "cell_type": "code",
   "execution_count": 596,
   "metadata": {},
   "outputs": [],
   "source": [
    "# loading data \n",
    "\n",
    "titanic = pd.read_csv('train.csv') \n",
    "Test_titanic = pd.read_csv('test.csv')  "
   ]
  },
  {
   "cell_type": "markdown",
   "metadata": {},
   "source": [
    "## Data Overview\n",
    "\n",
    "#### Variable Notes\n",
    "\n",
    "**pclass**: A proxy for socio-economic status (SES)\n",
    "1st = Upper\n",
    "2nd = Middle\n",
    "3rd = Lower\n",
    "\n",
    "**age**: Age is fractional if less than 1. If the age is estimated, is it in the form of xx.5\n",
    "\n",
    "**SibSp**: The dataset defines family relations in this way...\n",
    "Sibling = brother, sister, stepbrother, stepsister\n",
    "Spouse = husband, wife (mistresses and fiancés were ignored)\n",
    "\n",
    "**parch**: The dataset defines family relations in this way...\n",
    "Parent = mother, father\n",
    "Child = daughter, son, stepdaughter, stepson\n",
    "Some children travelled only with a nanny, therefore parch=0 for them."
   ]
  },
  {
   "cell_type": "code",
   "execution_count": 458,
   "metadata": {},
   "outputs": [
    {
     "data": {
      "text/html": [
       "<div>\n",
       "<style scoped>\n",
       "    .dataframe tbody tr th:only-of-type {\n",
       "        vertical-align: middle;\n",
       "    }\n",
       "\n",
       "    .dataframe tbody tr th {\n",
       "        vertical-align: top;\n",
       "    }\n",
       "\n",
       "    .dataframe thead th {\n",
       "        text-align: right;\n",
       "    }\n",
       "</style>\n",
       "<table border=\"1\" class=\"dataframe\">\n",
       "  <thead>\n",
       "    <tr style=\"text-align: right;\">\n",
       "      <th></th>\n",
       "      <th>PassengerId</th>\n",
       "      <th>Survived</th>\n",
       "      <th>Pclass</th>\n",
       "      <th>Name</th>\n",
       "      <th>Sex</th>\n",
       "      <th>Age</th>\n",
       "      <th>SibSp</th>\n",
       "      <th>Parch</th>\n",
       "      <th>Ticket</th>\n",
       "      <th>Fare</th>\n",
       "      <th>Cabin</th>\n",
       "      <th>Embarked</th>\n",
       "    </tr>\n",
       "  </thead>\n",
       "  <tbody>\n",
       "    <tr>\n",
       "      <th>0</th>\n",
       "      <td>1</td>\n",
       "      <td>0</td>\n",
       "      <td>3</td>\n",
       "      <td>Braund, Mr. Owen Harris</td>\n",
       "      <td>male</td>\n",
       "      <td>22.0</td>\n",
       "      <td>1</td>\n",
       "      <td>0</td>\n",
       "      <td>A/5 21171</td>\n",
       "      <td>7.2500</td>\n",
       "      <td>NaN</td>\n",
       "      <td>S</td>\n",
       "    </tr>\n",
       "    <tr>\n",
       "      <th>1</th>\n",
       "      <td>2</td>\n",
       "      <td>1</td>\n",
       "      <td>1</td>\n",
       "      <td>Cumings, Mrs. John Bradley (Florence Briggs Th...</td>\n",
       "      <td>female</td>\n",
       "      <td>38.0</td>\n",
       "      <td>1</td>\n",
       "      <td>0</td>\n",
       "      <td>PC 17599</td>\n",
       "      <td>71.2833</td>\n",
       "      <td>C85</td>\n",
       "      <td>C</td>\n",
       "    </tr>\n",
       "    <tr>\n",
       "      <th>2</th>\n",
       "      <td>3</td>\n",
       "      <td>1</td>\n",
       "      <td>3</td>\n",
       "      <td>Heikkinen, Miss. Laina</td>\n",
       "      <td>female</td>\n",
       "      <td>26.0</td>\n",
       "      <td>0</td>\n",
       "      <td>0</td>\n",
       "      <td>STON/O2. 3101282</td>\n",
       "      <td>7.9250</td>\n",
       "      <td>NaN</td>\n",
       "      <td>S</td>\n",
       "    </tr>\n",
       "    <tr>\n",
       "      <th>3</th>\n",
       "      <td>4</td>\n",
       "      <td>1</td>\n",
       "      <td>1</td>\n",
       "      <td>Futrelle, Mrs. Jacques Heath (Lily May Peel)</td>\n",
       "      <td>female</td>\n",
       "      <td>35.0</td>\n",
       "      <td>1</td>\n",
       "      <td>0</td>\n",
       "      <td>113803</td>\n",
       "      <td>53.1000</td>\n",
       "      <td>C123</td>\n",
       "      <td>S</td>\n",
       "    </tr>\n",
       "    <tr>\n",
       "      <th>4</th>\n",
       "      <td>5</td>\n",
       "      <td>0</td>\n",
       "      <td>3</td>\n",
       "      <td>Allen, Mr. William Henry</td>\n",
       "      <td>male</td>\n",
       "      <td>35.0</td>\n",
       "      <td>0</td>\n",
       "      <td>0</td>\n",
       "      <td>373450</td>\n",
       "      <td>8.0500</td>\n",
       "      <td>NaN</td>\n",
       "      <td>S</td>\n",
       "    </tr>\n",
       "  </tbody>\n",
       "</table>\n",
       "</div>"
      ],
      "text/plain": [
       "   PassengerId  Survived  Pclass  \\\n",
       "0            1         0       3   \n",
       "1            2         1       1   \n",
       "2            3         1       3   \n",
       "3            4         1       1   \n",
       "4            5         0       3   \n",
       "\n",
       "                                                Name     Sex   Age  SibSp  \\\n",
       "0                            Braund, Mr. Owen Harris    male  22.0      1   \n",
       "1  Cumings, Mrs. John Bradley (Florence Briggs Th...  female  38.0      1   \n",
       "2                             Heikkinen, Miss. Laina  female  26.0      0   \n",
       "3       Futrelle, Mrs. Jacques Heath (Lily May Peel)  female  35.0      1   \n",
       "4                           Allen, Mr. William Henry    male  35.0      0   \n",
       "\n",
       "   Parch            Ticket     Fare Cabin Embarked  \n",
       "0      0         A/5 21171   7.2500   NaN        S  \n",
       "1      0          PC 17599  71.2833   C85        C  \n",
       "2      0  STON/O2. 3101282   7.9250   NaN        S  \n",
       "3      0            113803  53.1000  C123        S  \n",
       "4      0            373450   8.0500   NaN        S  "
      ]
     },
     "execution_count": 458,
     "metadata": {},
     "output_type": "execute_result"
    }
   ],
   "source": [
    "titanic.head()  "
   ]
  },
  {
   "cell_type": "code",
   "execution_count": 459,
   "metadata": {},
   "outputs": [
    {
     "data": {
      "text/html": [
       "<div>\n",
       "<style scoped>\n",
       "    .dataframe tbody tr th:only-of-type {\n",
       "        vertical-align: middle;\n",
       "    }\n",
       "\n",
       "    .dataframe tbody tr th {\n",
       "        vertical-align: top;\n",
       "    }\n",
       "\n",
       "    .dataframe thead th {\n",
       "        text-align: right;\n",
       "    }\n",
       "</style>\n",
       "<table border=\"1\" class=\"dataframe\">\n",
       "  <thead>\n",
       "    <tr style=\"text-align: right;\">\n",
       "      <th></th>\n",
       "      <th>PassengerId</th>\n",
       "      <th>Pclass</th>\n",
       "      <th>Name</th>\n",
       "      <th>Sex</th>\n",
       "      <th>Age</th>\n",
       "      <th>SibSp</th>\n",
       "      <th>Parch</th>\n",
       "      <th>Ticket</th>\n",
       "      <th>Fare</th>\n",
       "      <th>Cabin</th>\n",
       "      <th>Embarked</th>\n",
       "    </tr>\n",
       "  </thead>\n",
       "  <tbody>\n",
       "    <tr>\n",
       "      <th>0</th>\n",
       "      <td>892</td>\n",
       "      <td>3</td>\n",
       "      <td>Kelly, Mr. James</td>\n",
       "      <td>male</td>\n",
       "      <td>34.5</td>\n",
       "      <td>0</td>\n",
       "      <td>0</td>\n",
       "      <td>330911</td>\n",
       "      <td>7.8292</td>\n",
       "      <td>NaN</td>\n",
       "      <td>Q</td>\n",
       "    </tr>\n",
       "    <tr>\n",
       "      <th>1</th>\n",
       "      <td>893</td>\n",
       "      <td>3</td>\n",
       "      <td>Wilkes, Mrs. James (Ellen Needs)</td>\n",
       "      <td>female</td>\n",
       "      <td>47.0</td>\n",
       "      <td>1</td>\n",
       "      <td>0</td>\n",
       "      <td>363272</td>\n",
       "      <td>7.0000</td>\n",
       "      <td>NaN</td>\n",
       "      <td>S</td>\n",
       "    </tr>\n",
       "    <tr>\n",
       "      <th>2</th>\n",
       "      <td>894</td>\n",
       "      <td>2</td>\n",
       "      <td>Myles, Mr. Thomas Francis</td>\n",
       "      <td>male</td>\n",
       "      <td>62.0</td>\n",
       "      <td>0</td>\n",
       "      <td>0</td>\n",
       "      <td>240276</td>\n",
       "      <td>9.6875</td>\n",
       "      <td>NaN</td>\n",
       "      <td>Q</td>\n",
       "    </tr>\n",
       "    <tr>\n",
       "      <th>3</th>\n",
       "      <td>895</td>\n",
       "      <td>3</td>\n",
       "      <td>Wirz, Mr. Albert</td>\n",
       "      <td>male</td>\n",
       "      <td>27.0</td>\n",
       "      <td>0</td>\n",
       "      <td>0</td>\n",
       "      <td>315154</td>\n",
       "      <td>8.6625</td>\n",
       "      <td>NaN</td>\n",
       "      <td>S</td>\n",
       "    </tr>\n",
       "    <tr>\n",
       "      <th>4</th>\n",
       "      <td>896</td>\n",
       "      <td>3</td>\n",
       "      <td>Hirvonen, Mrs. Alexander (Helga E Lindqvist)</td>\n",
       "      <td>female</td>\n",
       "      <td>22.0</td>\n",
       "      <td>1</td>\n",
       "      <td>1</td>\n",
       "      <td>3101298</td>\n",
       "      <td>12.2875</td>\n",
       "      <td>NaN</td>\n",
       "      <td>S</td>\n",
       "    </tr>\n",
       "  </tbody>\n",
       "</table>\n",
       "</div>"
      ],
      "text/plain": [
       "   PassengerId  Pclass                                          Name     Sex  \\\n",
       "0          892       3                              Kelly, Mr. James    male   \n",
       "1          893       3              Wilkes, Mrs. James (Ellen Needs)  female   \n",
       "2          894       2                     Myles, Mr. Thomas Francis    male   \n",
       "3          895       3                              Wirz, Mr. Albert    male   \n",
       "4          896       3  Hirvonen, Mrs. Alexander (Helga E Lindqvist)  female   \n",
       "\n",
       "    Age  SibSp  Parch   Ticket     Fare Cabin Embarked  \n",
       "0  34.5      0      0   330911   7.8292   NaN        Q  \n",
       "1  47.0      1      0   363272   7.0000   NaN        S  \n",
       "2  62.0      0      0   240276   9.6875   NaN        Q  \n",
       "3  27.0      0      0   315154   8.6625   NaN        S  \n",
       "4  22.0      1      1  3101298  12.2875   NaN        S  "
      ]
     },
     "execution_count": 459,
     "metadata": {},
     "output_type": "execute_result"
    }
   ],
   "source": [
    "Test_titanic.head()  "
   ]
  },
  {
   "cell_type": "code",
   "execution_count": 598,
   "metadata": {},
   "outputs": [
    {
     "name": "stdout",
     "output_type": "stream",
     "text": [
      "(891, 12)\n",
      "(418, 11)\n"
     ]
    }
   ],
   "source": [
    "print(titanic.shape)\n",
    "print(Test_titanic.shape) "
   ]
  },
  {
   "cell_type": "code",
   "execution_count": 8,
   "metadata": {},
   "outputs": [
    {
     "data": {
      "text/html": [
       "<div>\n",
       "<style scoped>\n",
       "    .dataframe tbody tr th:only-of-type {\n",
       "        vertical-align: middle;\n",
       "    }\n",
       "\n",
       "    .dataframe tbody tr th {\n",
       "        vertical-align: top;\n",
       "    }\n",
       "\n",
       "    .dataframe thead th {\n",
       "        text-align: right;\n",
       "    }\n",
       "</style>\n",
       "<table border=\"1\" class=\"dataframe\">\n",
       "  <thead>\n",
       "    <tr style=\"text-align: right;\">\n",
       "      <th></th>\n",
       "      <th>PassengerId</th>\n",
       "      <th>Survived</th>\n",
       "      <th>Pclass</th>\n",
       "      <th>Age</th>\n",
       "      <th>SibSp</th>\n",
       "      <th>Parch</th>\n",
       "      <th>Fare</th>\n",
       "    </tr>\n",
       "  </thead>\n",
       "  <tbody>\n",
       "    <tr>\n",
       "      <th>count</th>\n",
       "      <td>891.000000</td>\n",
       "      <td>891.000000</td>\n",
       "      <td>891.000000</td>\n",
       "      <td>714.000000</td>\n",
       "      <td>891.000000</td>\n",
       "      <td>891.000000</td>\n",
       "      <td>891.000000</td>\n",
       "    </tr>\n",
       "    <tr>\n",
       "      <th>mean</th>\n",
       "      <td>446.000000</td>\n",
       "      <td>0.383838</td>\n",
       "      <td>2.308642</td>\n",
       "      <td>29.699118</td>\n",
       "      <td>0.523008</td>\n",
       "      <td>0.381594</td>\n",
       "      <td>32.204208</td>\n",
       "    </tr>\n",
       "    <tr>\n",
       "      <th>std</th>\n",
       "      <td>257.353842</td>\n",
       "      <td>0.486592</td>\n",
       "      <td>0.836071</td>\n",
       "      <td>14.526497</td>\n",
       "      <td>1.102743</td>\n",
       "      <td>0.806057</td>\n",
       "      <td>49.693429</td>\n",
       "    </tr>\n",
       "    <tr>\n",
       "      <th>min</th>\n",
       "      <td>1.000000</td>\n",
       "      <td>0.000000</td>\n",
       "      <td>1.000000</td>\n",
       "      <td>0.420000</td>\n",
       "      <td>0.000000</td>\n",
       "      <td>0.000000</td>\n",
       "      <td>0.000000</td>\n",
       "    </tr>\n",
       "    <tr>\n",
       "      <th>25%</th>\n",
       "      <td>223.500000</td>\n",
       "      <td>0.000000</td>\n",
       "      <td>2.000000</td>\n",
       "      <td>20.125000</td>\n",
       "      <td>0.000000</td>\n",
       "      <td>0.000000</td>\n",
       "      <td>7.910400</td>\n",
       "    </tr>\n",
       "    <tr>\n",
       "      <th>50%</th>\n",
       "      <td>446.000000</td>\n",
       "      <td>0.000000</td>\n",
       "      <td>3.000000</td>\n",
       "      <td>28.000000</td>\n",
       "      <td>0.000000</td>\n",
       "      <td>0.000000</td>\n",
       "      <td>14.454200</td>\n",
       "    </tr>\n",
       "    <tr>\n",
       "      <th>75%</th>\n",
       "      <td>668.500000</td>\n",
       "      <td>1.000000</td>\n",
       "      <td>3.000000</td>\n",
       "      <td>38.000000</td>\n",
       "      <td>1.000000</td>\n",
       "      <td>0.000000</td>\n",
       "      <td>31.000000</td>\n",
       "    </tr>\n",
       "    <tr>\n",
       "      <th>max</th>\n",
       "      <td>891.000000</td>\n",
       "      <td>1.000000</td>\n",
       "      <td>3.000000</td>\n",
       "      <td>80.000000</td>\n",
       "      <td>8.000000</td>\n",
       "      <td>6.000000</td>\n",
       "      <td>512.329200</td>\n",
       "    </tr>\n",
       "  </tbody>\n",
       "</table>\n",
       "</div>"
      ],
      "text/plain": [
       "       PassengerId    Survived      Pclass         Age       SibSp  \\\n",
       "count   891.000000  891.000000  891.000000  714.000000  891.000000   \n",
       "mean    446.000000    0.383838    2.308642   29.699118    0.523008   \n",
       "std     257.353842    0.486592    0.836071   14.526497    1.102743   \n",
       "min       1.000000    0.000000    1.000000    0.420000    0.000000   \n",
       "25%     223.500000    0.000000    2.000000   20.125000    0.000000   \n",
       "50%     446.000000    0.000000    3.000000   28.000000    0.000000   \n",
       "75%     668.500000    1.000000    3.000000   38.000000    1.000000   \n",
       "max     891.000000    1.000000    3.000000   80.000000    8.000000   \n",
       "\n",
       "            Parch        Fare  \n",
       "count  891.000000  891.000000  \n",
       "mean     0.381594   32.204208  \n",
       "std      0.806057   49.693429  \n",
       "min      0.000000    0.000000  \n",
       "25%      0.000000    7.910400  \n",
       "50%      0.000000   14.454200  \n",
       "75%      0.000000   31.000000  \n",
       "max      6.000000  512.329200  "
      ]
     },
     "execution_count": 8,
     "metadata": {},
     "output_type": "execute_result"
    }
   ],
   "source": [
    "titanic.describe() "
   ]
  },
  {
   "cell_type": "code",
   "execution_count": 9,
   "metadata": {},
   "outputs": [
    {
     "name": "stdout",
     "output_type": "stream",
     "text": [
      "<class 'pandas.core.frame.DataFrame'>\n",
      "RangeIndex: 891 entries, 0 to 890\n",
      "Data columns (total 12 columns):\n",
      " #   Column       Non-Null Count  Dtype  \n",
      "---  ------       --------------  -----  \n",
      " 0   PassengerId  891 non-null    int64  \n",
      " 1   Survived     891 non-null    int64  \n",
      " 2   Pclass       891 non-null    int64  \n",
      " 3   Name         891 non-null    object \n",
      " 4   Sex          891 non-null    object \n",
      " 5   Age          714 non-null    float64\n",
      " 6   SibSp        891 non-null    int64  \n",
      " 7   Parch        891 non-null    int64  \n",
      " 8   Ticket       891 non-null    object \n",
      " 9   Fare         891 non-null    float64\n",
      " 10  Cabin        204 non-null    object \n",
      " 11  Embarked     889 non-null    object \n",
      "dtypes: float64(2), int64(5), object(5)\n",
      "memory usage: 83.7+ KB\n"
     ]
    }
   ],
   "source": [
    "titanic.info() "
   ]
  },
  {
   "cell_type": "markdown",
   "metadata": {},
   "source": [
    "We have many missing values in the variables Age and Fare, and several other values between in the variable Embarked, we will need to fill these."
   ]
  },
  {
   "cell_type": "markdown",
   "metadata": {},
   "source": [
    "## Exploratory Data Analysis"
   ]
  },
  {
   "cell_type": "code",
   "execution_count": 604,
   "metadata": {},
   "outputs": [
    {
     "data": {
      "text/plain": [
       "<matplotlib.axes._subplots.AxesSubplot at 0x7f8859828b10>"
      ]
     },
     "execution_count": 604,
     "metadata": {},
     "output_type": "execute_result"
    },
    {
     "data": {
      "image/png": "[encoded data removed]",
      "text/plain": [
       "<Figure size 640x480 with 1 Axes>"
      ]
     },
     "metadata": {},
     "output_type": "display_data"
    }
   ],
   "source": [
    "# How many people survived?\n",
    "\n",
    "sns.set_style(\"whitegrid\") #setting style of the plots\n",
    "\n",
    "sns.countplot(x = \"Survived\", data = titanic)  "
   ]
  },
  {
   "cell_type": "code",
   "execution_count": 605,
   "metadata": {},
   "outputs": [
    {
     "data": {
      "text/plain": [
       "<matplotlib.axes._subplots.AxesSubplot at 0x7f88595c6610>"
      ]
     },
     "execution_count": 605,
     "metadata": {},
     "output_type": "execute_result"
    },
    {
     "data": {
      "image/png": "[encoded data removed]",
      "text/plain": [
       "<Figure size 640x480 with 1 Axes>"
      ]
     },
     "metadata": {},
     "output_type": "display_data"
    }
   ],
   "source": [
    "# How many people survived by sex? \n",
    "\n",
    "sns.countplot(x = \"Survived\", hue = \"Sex\", data = titanic) "
   ]
  },
  {
   "cell_type": "code",
   "execution_count": 606,
   "metadata": {},
   "outputs": [
    {
     "data": {
      "text/plain": [
       "<matplotlib.axes._subplots.AxesSubplot at 0x7f8859b8d910>"
      ]
     },
     "execution_count": 606,
     "metadata": {},
     "output_type": "execute_result"
    },
    {
     "data": {
      "image/png": "[encoded data removed]",
      "text/plain": [
       "<Figure size 640x480 with 1 Axes>"
      ]
     },
     "metadata": {},
     "output_type": "display_data"
    }
   ],
   "source": [
    "# How many people survived taking class into account?\n",
    "\n",
    "sns.countplot(x = \"Survived\", hue = \"Pclass\", data = titanic)  "
   ]
  },
  {
   "cell_type": "code",
   "execution_count": 607,
   "metadata": {},
   "outputs": [
    {
     "data": {
      "text/plain": [
       "<matplotlib.axes._subplots.AxesSubplot at 0x7f885aed3390>"
      ]
     },
     "execution_count": 607,
     "metadata": {},
     "output_type": "execute_result"
    },
    {
     "data": {
      "image/png": "[encoded data removed]",
      "text/plain": [
       "<Figure size 640x480 with 1 Axes>"
      ]
     },
     "metadata": {},
     "output_type": "display_data"
    }
   ],
   "source": [
    "# Plotting of variable age against survival\n",
    "\n",
    "sns.boxplot(x=\"Survived\", y= \"Age\", data=titanic)  "
   ]
  },
  {
   "cell_type": "code",
   "execution_count": 608,
   "metadata": {},
   "outputs": [
    {
     "data": {
      "image/png": "[encoded data removed]",
      "text/plain": [
       "<Figure size 640x480 with 1 Axes>"
      ]
     },
     "metadata": {},
     "output_type": "display_data"
    }
   ],
   "source": [
    "# Plotting differences between survival according to the fare paid\n",
    "\n",
    "titanic['logFare'] = np.log(titanic['Fare']) # big outliers in Fare, we apply logarithmic scale\n",
    "sns.boxplot(x=\"Survived\", y= 'logFare', data=titanic) \n",
    "titanic.drop('logFare', axis = 1, inplace = True) # We remove this feature right after"
   ]
  },
  {
   "cell_type": "code",
   "execution_count": 609,
   "metadata": {},
   "outputs": [
    {
     "data": {
      "text/plain": [
       "<seaborn.axisgrid.FacetGrid at 0x7f885af26ad0>"
      ]
     },
     "execution_count": 609,
     "metadata": {},
     "output_type": "execute_result"
    },
    {
     "data": {
      "image/png": "[encoded data removed]",
      "text/plain": [
       "<Figure size 500x500 with 1 Axes>"
      ]
     },
     "metadata": {},
     "output_type": "display_data"
    }
   ],
   "source": [
    "# SibSp against survival\n",
    "\n",
    "sns.factorplot(x = 'SibSp', y = 'Survived', data = titanic) "
   ]
  },
  {
   "cell_type": "code",
   "execution_count": 610,
   "metadata": {},
   "outputs": [
    {
     "data": {
      "text/plain": [
       "<seaborn.axisgrid.FacetGrid at 0x7f885a809790>"
      ]
     },
     "execution_count": 610,
     "metadata": {},
     "output_type": "execute_result"
    },
    {
     "data": {
      "image/png": "[encoded data removed]",
      "text/plain": [
       "<Figure size 500x500 with 1 Axes>"
      ]
     },
     "metadata": {},
     "output_type": "display_data"
    }
   ],
   "source": [
    "# With Parch, it follows a similar distribution with SibSp\n",
    "\n",
    "sns.factorplot(x = 'Parch', y = 'Survived', data = titanic) "
   ]
  },
  {
   "cell_type": "markdown",
   "metadata": {},
   "source": [
    "**EDA Conclussion**: There seems to be correlation between the survival rate and sex, women are prone to survive whereas men are not. Class seems to play an important role in the survival rate as well so does the fare paid, all these variables might incide in collinearity as seems highly related to each other, we will have to examine the correlation between the variables to decide whether what to include and what not. But in general there seems to be a pattern between higher class/higher fare paid and the probability of surviving.\n",
    "\n",
    "The relation between age and survival doesn't seem that clear from the boxplot we got, we will need to further examine this relation.\n",
    "\n",
    "The number of siblings and spouses seem to be related to the number of parents and children withing a family, so it would be interesting to add these two variables to create a 'Number of relatives' variable. Seems like the more relatives on board have a negative impact on the survival rate."
   ]
  },
  {
   "cell_type": "markdown",
   "metadata": {},
   "source": [
    "## Data Preprocessing"
   ]
  },
  {
   "cell_type": "code",
   "execution_count": 611,
   "metadata": {},
   "outputs": [],
   "source": [
    "# We first join the datasets so we can apply all the transformations to them.\n",
    "\n",
    "traintest = pd.concat([titanic.drop('Survived', axis = 1), Test_titanic], axis = 0) "
   ]
  },
  {
   "cell_type": "code",
   "execution_count": 461,
   "metadata": {},
   "outputs": [
    {
     "data": {
      "text/plain": [
       "(1309, 11)"
      ]
     },
     "execution_count": 461,
     "metadata": {},
     "output_type": "execute_result"
    }
   ],
   "source": [
    "traintest.shape"
   ]
  },
  {
   "cell_type": "code",
   "execution_count": 462,
   "metadata": {},
   "outputs": [
    {
     "name": "stdout",
     "output_type": "stream",
     "text": [
      "<class 'pandas.core.frame.DataFrame'>\n",
      "Int64Index: 1309 entries, 0 to 417\n",
      "Data columns (total 11 columns):\n",
      " #   Column       Non-Null Count  Dtype  \n",
      "---  ------       --------------  -----  \n",
      " 0   PassengerId  1309 non-null   int64  \n",
      " 1   Pclass       1309 non-null   int64  \n",
      " 2   Name         1309 non-null   object \n",
      " 3   Sex          1309 non-null   object \n",
      " 4   Age          1046 non-null   float64\n",
      " 5   SibSp        1309 non-null   int64  \n",
      " 6   Parch        1309 non-null   int64  \n",
      " 7   Ticket       1309 non-null   object \n",
      " 8   Fare         1308 non-null   float64\n",
      " 9   Cabin        295 non-null    object \n",
      " 10  Embarked     1307 non-null   object \n",
      "dtypes: float64(2), int64(4), object(5)\n",
      "memory usage: 122.7+ KB\n"
     ]
    }
   ],
   "source": [
    "traintest.info() "
   ]
  },
  {
   "cell_type": "code",
   "execution_count": 612,
   "metadata": {},
   "outputs": [
    {
     "data": {
      "text/plain": [
       "PassengerId       0\n",
       "Pclass            0\n",
       "Name              0\n",
       "Sex               0\n",
       "Age             263\n",
       "SibSp             0\n",
       "Parch             0\n",
       "Ticket            0\n",
       "Fare              1\n",
       "Cabin          1014\n",
       "Embarked          2\n",
       "dtype: int64"
      ]
     },
     "execution_count": 612,
     "metadata": {},
     "output_type": "execute_result"
    }
   ],
   "source": [
    "# There is now a missing value in the Fare variable as well\n",
    "# Checking the null values of every column\n",
    "\n",
    "traintest.isnull().sum(axis=0) "
   ]
  },
  {
   "cell_type": "markdown",
   "metadata": {},
   "source": [
    "### Dealing with Missing Values "
   ]
  },
  {
   "cell_type": "code",
   "execution_count": 613,
   "metadata": {},
   "outputs": [
    {
     "data": {
      "text/plain": [
       "Pclass  Sex   \n",
       "1       female    37.037594\n",
       "        male      41.029272\n",
       "2       female    27.499223\n",
       "        male      30.815380\n",
       "3       female    22.185329\n",
       "        male      25.962264\n",
       "Name: Age, dtype: float64"
      ]
     },
     "execution_count": 613,
     "metadata": {},
     "output_type": "execute_result"
    }
   ],
   "source": [
    "# Let's see the differences in ages taking into account both Sex and Pclass:\n",
    "\n",
    "traintest['Age'].groupby([traintest['Pclass'], traintest['Sex']]).mean() "
   ]
  },
  {
   "cell_type": "code",
   "execution_count": 614,
   "metadata": {},
   "outputs": [
    {
     "data": {
      "text/plain": [
       "0"
      ]
     },
     "execution_count": 614,
     "metadata": {},
     "output_type": "execute_result"
    }
   ],
   "source": [
    "# Defining a variable to impute age using Pclass and Sex variables\n",
    "\n",
    "age_means = traintest.groupby(['Sex', 'Pclass'])['Age']\n",
    "traintest.Age = age_means.transform(lambda x: x.fillna(x.mean())) \n",
    "sum(traintest['Age'].isnull()) "
   ]
  },
  {
   "cell_type": "markdown",
   "metadata": {},
   "source": [
    "Most of the Cabin variable values are null values, these null values might be meaningful\n",
    "as they must represent those passengers that didn't have any cabin assigned, so let's give those null values the letter 'N' as in 'None'"
   ]
  },
  {
   "cell_type": "code",
   "execution_count": 615,
   "metadata": {},
   "outputs": [],
   "source": [
    "# Let's fill the null values with the letter 'N'\n",
    "\n",
    "traintest['Cabin'].fillna('N', inplace = True)  "
   ]
  },
  {
   "cell_type": "code",
   "execution_count": 616,
   "metadata": {},
   "outputs": [
    {
     "data": {
      "text/plain": [
       "array(['N', 'C', 'E', 'G', 'D', 'A', 'B', 'F', 'T'], dtype=object)"
      ]
     },
     "execution_count": 616,
     "metadata": {},
     "output_type": "execute_result"
    }
   ],
   "source": [
    "traintest['Cabin'] = traintest['Cabin'].apply(lambda x: str(x)[0])   \n",
    "traintest['Cabin'].unique() "
   ]
  },
  {
   "cell_type": "code",
   "execution_count": 617,
   "metadata": {},
   "outputs": [
    {
     "data": {
      "text/plain": [
       "array(['S', 'C', 'Q', nan], dtype=object)"
      ]
     },
     "execution_count": 617,
     "metadata": {},
     "output_type": "execute_result"
    }
   ],
   "source": [
    "# There seem to be still null values in the 'Embarked' variable\n",
    "\n",
    "traintest['Embarked'].unique() "
   ]
  },
  {
   "cell_type": "code",
   "execution_count": 618,
   "metadata": {},
   "outputs": [],
   "source": [
    "# We can replace these null values using the most common value for Embarked which is S\n",
    "\n",
    "traintest['Embarked'] = traintest['Embarked'].fillna('S') "
   ]
  },
  {
   "cell_type": "code",
   "execution_count": 619,
   "metadata": {},
   "outputs": [],
   "source": [
    "# To get rid of the null value in Fare we will use the median, as it'd be more \n",
    "#representative given that the Fare variable contains a significant number of  outliers\n",
    "\n",
    "traintest['Fare'] = traintest['Fare'].fillna(traintest['Fare'].median()) "
   ]
  },
  {
   "cell_type": "code",
   "execution_count": 623,
   "metadata": {},
   "outputs": [
    {
     "data": {
      "text/plain": [
       "<matplotlib.axes._subplots.AxesSubplot at 0x7f885e7cd4d0>"
      ]
     },
     "execution_count": 623,
     "metadata": {},
     "output_type": "execute_result"
    },
    {
     "data": {
      "image/png": "[encoded data removed]",
      "text/plain": [
       "<Figure size 640x480 with 2 Axes>"
      ]
     },
     "metadata": {},
     "output_type": "display_data"
    }
   ],
   "source": [
    "# Let's check if we've gotten rid of all the null values\n",
    "\n",
    "sns.heatmap(traintest.isnull()) "
   ]
  },
  {
   "cell_type": "markdown",
   "metadata": {},
   "source": [
    "### Feature Engineering"
   ]
  },
  {
   "cell_type": "code",
   "execution_count": 624,
   "metadata": {},
   "outputs": [],
   "source": [
    "# Let's grab just the title of every person instead of their names\n",
    "\n",
    "traintest['Title'] = traintest['Name'].apply(lambda x: x.split(', ')[1].split('.')[0]) "
   ]
  },
  {
   "cell_type": "code",
   "execution_count": 625,
   "metadata": {},
   "outputs": [
    {
     "data": {
      "text/plain": [
       "Title\n",
       "Capt              1\n",
       "Col               4\n",
       "Don               1\n",
       "Dona              1\n",
       "Dr                8\n",
       "Jonkheer          1\n",
       "Lady              1\n",
       "Major             2\n",
       "Master           61\n",
       "Miss            260\n",
       "Mlle              2\n",
       "Mme               1\n",
       "Mr              757\n",
       "Mrs             197\n",
       "Ms                2\n",
       "Rev               8\n",
       "Sir               1\n",
       "the Countess      1\n",
       "Name: Title, dtype: int64"
      ]
     },
     "execution_count": 625,
     "metadata": {},
     "output_type": "execute_result"
    }
   ],
   "source": [
    "# Counting the occurrences of all the titles\n",
    "\n",
    "traintest.groupby(['Title'])['Title'].count() "
   ]
  },
  {
   "cell_type": "code",
   "execution_count": 626,
   "metadata": {},
   "outputs": [],
   "source": [
    "# Let's group them together dividing them into Mr, Miss, Master and Distinguished\n",
    "\n",
    "traintest[\"Title\"] = traintest[\"Title\"].replace(['Lady', 'the Countess','Capt', \n",
    "                                             'Col', 'Dr', 'Major', 'Rev', 'Sir', \n",
    "                                             'Jonkheer'], 'Distinguished') \n",
    "traintest['Title'] = traintest['Title'].replace(['Don', 'Mr'], 'Mr')\n",
    "traintest['Title'] = traintest['Title'].replace(['Miss', 'Mlle', 'Mme', 'Mrs', 'Ms', \n",
    "                                                 'Dona'], 'Miss') \n",
    "# And let's get rid of the Name variable as we won't use it anymore\n",
    "traintest.drop('Name', axis = 1, inplace = True) "
   ]
  },
  {
   "cell_type": "code",
   "execution_count": 627,
   "metadata": {},
   "outputs": [
    {
     "data": {
      "text/plain": [
       "array(['Mr', 'Miss', 'Master', 'Distinguished'], dtype=object)"
      ]
     },
     "execution_count": 627,
     "metadata": {},
     "output_type": "execute_result"
    }
   ],
   "source": [
    "traintest['Title'].unique() "
   ]
  },
  {
   "cell_type": "code",
   "execution_count": 628,
   "metadata": {},
   "outputs": [],
   "source": [
    "# As we saw earlier, Parch and SibSp seemed to be somewhat related, let's create a new\n",
    "#variable adding both columns as number of relatives present in the Titanic.\n",
    "\n",
    "traintest['relatives'] = traintest['SibSp'] + traintest['Parch'] \n",
    "traintest.drop(['SibSp', 'Parch'], axis = 1, inplace = True) # we drop them right afterwards"
   ]
  },
  {
   "cell_type": "code",
   "execution_count": 629,
   "metadata": {},
   "outputs": [],
   "source": [
    "#We couldn't find any pattern in the ticket numbering, so it'd be better to drop that column\n",
    "# We won't need the PassengerId, either\n",
    "\n",
    "traintest.drop(['PassengerId', 'Ticket'], axis = 1, inplace = True) "
   ]
  },
  {
   "cell_type": "markdown",
   "metadata": {},
   "source": [
    "### Label-Encoding Categorical Variables"
   ]
  },
  {
   "cell_type": "markdown",
   "metadata": {},
   "source": [
    "We will encode all the categorical variables into numeric ones for convenience, as most of the machine learning algorithms work better with numeric data."
   ]
  },
  {
   "cell_type": "code",
   "execution_count": 630,
   "metadata": {},
   "outputs": [],
   "source": [
    "le = preprocessing.LabelEncoder() \n",
    "\n",
    "le.fit(traintest['Sex'])\n",
    "traintest['Sex'] = le.transform(traintest['Sex']) "
   ]
  },
  {
   "cell_type": "markdown",
   "metadata": {},
   "source": [
    "We will use frequency label encoding for the rest of categorical variables, as in every one of these variables there are at least one category that is overrepresented with a much higher frequency than the others."
   ]
  },
  {
   "cell_type": "code",
   "execution_count": 631,
   "metadata": {},
   "outputs": [],
   "source": [
    "fe = np.round(traintest.groupby('Embarked').size()/len(traintest), 2) \n",
    "traintest.loc[:, 'Embarked'] = traintest['Embarked'].map(fe) "
   ]
  },
  {
   "cell_type": "code",
   "execution_count": 632,
   "metadata": {},
   "outputs": [],
   "source": [
    "fc = np.round(traintest.groupby('Cabin').size()/len(traintest), 2) \n",
    "traintest.loc[:, 'Cabin'] = traintest['Cabin'].map(fc) "
   ]
  },
  {
   "cell_type": "code",
   "execution_count": 633,
   "metadata": {},
   "outputs": [],
   "source": [
    "ft = np.round(traintest.groupby('Title').size()/len(traintest), 2)  \n",
    "traintest.loc[:, 'Title'] = traintest['Title'].map(ft) "
   ]
  },
  {
   "cell_type": "code",
   "execution_count": 634,
   "metadata": {},
   "outputs": [
    {
     "data": {
      "text/html": [
       "<div>\n",
       "<style scoped>\n",
       "    .dataframe tbody tr th:only-of-type {\n",
       "        vertical-align: middle;\n",
       "    }\n",
       "\n",
       "    .dataframe tbody tr th {\n",
       "        vertical-align: top;\n",
       "    }\n",
       "\n",
       "    .dataframe thead th {\n",
       "        text-align: right;\n",
       "    }\n",
       "</style>\n",
       "<table border=\"1\" class=\"dataframe\">\n",
       "  <thead>\n",
       "    <tr style=\"text-align: right;\">\n",
       "      <th></th>\n",
       "      <th>Pclass</th>\n",
       "      <th>Sex</th>\n",
       "      <th>Age</th>\n",
       "      <th>Fare</th>\n",
       "      <th>Cabin</th>\n",
       "      <th>Embarked</th>\n",
       "      <th>Title</th>\n",
       "      <th>relatives</th>\n",
       "    </tr>\n",
       "  </thead>\n",
       "  <tbody>\n",
       "    <tr>\n",
       "      <th>0</th>\n",
       "      <td>3</td>\n",
       "      <td>1</td>\n",
       "      <td>22.0</td>\n",
       "      <td>7.2500</td>\n",
       "      <td>0.77</td>\n",
       "      <td>0.70</td>\n",
       "      <td>0.58</td>\n",
       "      <td>1</td>\n",
       "    </tr>\n",
       "    <tr>\n",
       "      <th>1</th>\n",
       "      <td>1</td>\n",
       "      <td>0</td>\n",
       "      <td>38.0</td>\n",
       "      <td>71.2833</td>\n",
       "      <td>0.07</td>\n",
       "      <td>0.21</td>\n",
       "      <td>0.35</td>\n",
       "      <td>1</td>\n",
       "    </tr>\n",
       "    <tr>\n",
       "      <th>2</th>\n",
       "      <td>3</td>\n",
       "      <td>0</td>\n",
       "      <td>26.0</td>\n",
       "      <td>7.9250</td>\n",
       "      <td>0.77</td>\n",
       "      <td>0.70</td>\n",
       "      <td>0.35</td>\n",
       "      <td>0</td>\n",
       "    </tr>\n",
       "    <tr>\n",
       "      <th>3</th>\n",
       "      <td>1</td>\n",
       "      <td>0</td>\n",
       "      <td>35.0</td>\n",
       "      <td>53.1000</td>\n",
       "      <td>0.07</td>\n",
       "      <td>0.70</td>\n",
       "      <td>0.35</td>\n",
       "      <td>1</td>\n",
       "    </tr>\n",
       "    <tr>\n",
       "      <th>4</th>\n",
       "      <td>3</td>\n",
       "      <td>1</td>\n",
       "      <td>35.0</td>\n",
       "      <td>8.0500</td>\n",
       "      <td>0.77</td>\n",
       "      <td>0.70</td>\n",
       "      <td>0.58</td>\n",
       "      <td>0</td>\n",
       "    </tr>\n",
       "  </tbody>\n",
       "</table>\n",
       "</div>"
      ],
      "text/plain": [
       "   Pclass  Sex   Age     Fare  Cabin  Embarked  Title  relatives\n",
       "0       3    1  22.0   7.2500   0.77      0.70   0.58          1\n",
       "1       1    0  38.0  71.2833   0.07      0.21   0.35          1\n",
       "2       3    0  26.0   7.9250   0.77      0.70   0.35          0\n",
       "3       1    0  35.0  53.1000   0.07      0.70   0.35          1\n",
       "4       3    1  35.0   8.0500   0.77      0.70   0.58          0"
      ]
     },
     "execution_count": 634,
     "metadata": {},
     "output_type": "execute_result"
    }
   ],
   "source": [
    "traintest.head() "
   ]
  },
  {
   "cell_type": "markdown",
   "metadata": {},
   "source": [
    "### Data Frame Split (Train, Test and Test-Test)"
   ]
  },
  {
   "cell_type": "markdown",
   "metadata": {},
   "source": [
    "Before normalizing the different variables we need to split them, we will use the first split that we were given between the train set (up to the row 891) and the test for the competition (last 418 rows), the train set will be also divided into a training and test set to test our models."
   ]
  },
  {
   "cell_type": "code",
   "execution_count": 635,
   "metadata": {},
   "outputs": [],
   "source": [
    "train = traintest[0:891]\n",
    "test = traintest[891:] "
   ]
  },
  {
   "cell_type": "code",
   "execution_count": 636,
   "metadata": {},
   "outputs": [],
   "source": [
    "# Adding back the survived column to the trainset\n",
    "\n",
    "train['Survived'] = titanic['Survived'] "
   ]
  },
  {
   "cell_type": "code",
   "execution_count": 637,
   "metadata": {},
   "outputs": [],
   "source": [
    "# Now let's split the train dataset between the X (non-target features) and y (target) \n",
    "X = train.drop('Survived', axis = 1)\n",
    "y = train['Survived'] "
   ]
  },
  {
   "cell_type": "code",
   "execution_count": 638,
   "metadata": {},
   "outputs": [],
   "source": [
    "# We will use the following split for training our models:\n",
    "\n",
    "X_train, X_test, y_train, y_test = train_test_split(X, y, test_size=0.33, \n",
    "                                                    random_state=42)     "
   ]
  },
  {
   "cell_type": "markdown",
   "metadata": {},
   "source": [
    "#### EDA with the new features"
   ]
  },
  {
   "cell_type": "markdown",
   "metadata": {},
   "source": [
    "Now that we have the Survived variable back in our data set we can see how the new variables behave against the Survived variable."
   ]
  },
  {
   "cell_type": "code",
   "execution_count": 639,
   "metadata": {},
   "outputs": [
    {
     "data": {
      "text/plain": [
       "(array([0, 1, 2, 3]), <a list of 4 Text xticklabel objects>)"
      ]
     },
     "execution_count": 639,
     "metadata": {},
     "output_type": "execute_result"
    },
    {
     "data": {
      "image/png": "[encoded data removed]",
      "text/plain": [
       "<Figure size 500x500 with 1 Axes>"
      ]
     },
     "metadata": {},
     "output_type": "display_data"
    }
   ],
   "source": [
    "sns.factorplot(x = 'Title', y = 'Survived', data = train, kind = 'bar') \n",
    "plt.xticks(rotation=45) "
   ]
  },
  {
   "cell_type": "code",
   "execution_count": 640,
   "metadata": {},
   "outputs": [
    {
     "data": {
      "text/plain": [
       "(array([0, 1, 2, 3, 4, 5, 6]), <a list of 7 Text xticklabel objects>)"
      ]
     },
     "execution_count": 640,
     "metadata": {},
     "output_type": "execute_result"
    },
    {
     "data": {
      "image/png": "[encoded data removed]",
      "text/plain": [
       "<Figure size 500x500 with 1 Axes>"
      ]
     },
     "metadata": {},
     "output_type": "display_data"
    }
   ],
   "source": [
    "sns.factorplot(x = 'Cabin', y = 'Survived', data = train, kind = 'bar') \n",
    "plt.xticks(rotation=45) "
   ]
  },
  {
   "cell_type": "code",
   "execution_count": 641,
   "metadata": {},
   "outputs": [
    {
     "data": {
      "text/plain": [
       "<seaborn.axisgrid.FacetGrid at 0x7f885a6e3790>"
      ]
     },
     "execution_count": 641,
     "metadata": {},
     "output_type": "execute_result"
    },
    {
     "data": {
      "image/png": "[encoded data removed]",
      "text/plain": [
       "<Figure size 500x500 with 1 Axes>"
      ]
     },
     "metadata": {},
     "output_type": "display_data"
    }
   ],
   "source": [
    "sns.factorplot(x = 'relatives', y = 'Survived', data = train)  "
   ]
  },
  {
   "cell_type": "code",
   "execution_count": 642,
   "metadata": {},
   "outputs": [],
   "source": [
    "corr_titanic = train.corr() \n",
    "mascara = corr_titanic.where(np.tril(np.ones(corr_titanic.shape)).astype(np.bool)) "
   ]
  },
  {
   "cell_type": "code",
   "execution_count": 732,
   "metadata": {},
   "outputs": [
    {
     "data": {
      "image/png": "[encoded data removed]",
      "text/plain": [
       "<Figure size 1250x750 with 2 Axes>"
      ]
     },
     "metadata": {},
     "output_type": "display_data"
    }
   ],
   "source": [
    "plt.figure(figsize=(12.5,7.5)) \n",
    "\n",
    "# Generate a custom diverging colormap\n",
    "cmap = sns.diverging_palette(220, 10, as_cmap=True)\n",
    "\n",
    "corrmap=sns.heatmap(mascara, annot = True, cmap = cmap, linewidths=.5, cbar_kws={\"shrink\": .5})  "
   ]
  },
  {
   "cell_type": "markdown",
   "metadata": {},
   "source": [
    "**2nd EDA conclusions**: We can see that the title plays a role in the survival of the passengers, those with the title 'Mister' or equivalent are the ones that survived the less, whereas those with the title 'Miss' or equivalent are the ones that suvived the most, followed by the crew (those whose title is 'Master') and those with a distinguished title.\n",
    "\n",
    "Those who weren't assigned any cabin are also the ones with a smallest survival rate, these passengers were most surely 3rd class, the class with the smallest chance of survival as we saw earlier.\n",
    "\n",
    "In the correlation matrix we can see that survival is most correlated with the sex, followed by class, cabin and fare paid. Fare, Class and Cabin and highly correlated, specially Class and Cabin with a correlation coefficient of 0.72, this could lead to colinearity but I decided to keep it in our model as the cabin gives information about the location in the boat as well and not only the class."
   ]
  },
  {
   "cell_type": "markdown",
   "metadata": {},
   "source": [
    "### Scaling Numeric Variables\n",
    "\n",
    "It's best practice to scale the different variables separatedly.\n",
    "As Fare is a continuous variable with an important number of outliers we will use the .PowerTransformer() method from the scikit learn library."
   ]
  },
  {
   "cell_type": "code",
   "execution_count": 648,
   "metadata": {},
   "outputs": [],
   "source": [
    "pt_X = PowerTransformer()\n",
    "pt_X = pt_X.fit(X_train) \n",
    "X_train = pd.DataFrame(pt_X.transform(X_train))\n",
    "X_train.columns = ['Pclass', 'Sex', 'Age', 'Fare','Cabin', 'Embarked', 'Title', \n",
    "                   'relatives'] "
   ]
  },
  {
   "cell_type": "code",
   "execution_count": 649,
   "metadata": {},
   "outputs": [],
   "source": [
    "pt_Xt = PowerTransformer() \n",
    "pt_Xt = pt_Xt.fit(X_test) \n",
    "X_test = pd.DataFrame(pt_Xt.transform(X_test)) \n",
    "X_test.columns = ['Pclass', 'Sex', 'Age', 'Fare','Cabin', 'Embarked', 'Title', \n",
    "                   'relatives']  "
   ]
  },
  {
   "cell_type": "code",
   "execution_count": 650,
   "metadata": {},
   "outputs": [],
   "source": [
    "pt_test = PowerTransformer() \n",
    "pt_test = pt_test.fit(test) \n",
    "test = pd.DataFrame(pt_test.transform(test)) \n",
    "test.columns = ['Pclass', 'Sex', 'Age', 'Fare','Cabin', 'Embarked', 'Title', \n",
    "                   'relatives'] "
   ]
  },
  {
   "cell_type": "markdown",
   "metadata": {},
   "source": [
    "## Modeling \n",
    "\n",
    "We will now fit different machine learning models to the data and see which one is the best for predicting the data.\n",
    "\n",
    "Every model will be tested against the test y_test dataset to see which one performs the best, every model will also be cross validated to see if the model performance is consistent accross different data samples, calculating for this purpose its mean of results and standard deviation."
   ]
  },
  {
   "cell_type": "markdown",
   "metadata": {},
   "source": [
    "### Logistic Regression"
   ]
  },
  {
   "cell_type": "code",
   "execution_count": 651,
   "metadata": {},
   "outputs": [
    {
     "data": {
      "text/plain": [
       "LogisticRegression(C=1.0, class_weight=None, dual=False, fit_intercept=True,\n",
       "                   intercept_scaling=1, l1_ratio=None, max_iter=100,\n",
       "                   multi_class='auto', n_jobs=None, penalty='l2',\n",
       "                   random_state=None, solver='lbfgs', tol=0.0001, verbose=0,\n",
       "                   warm_start=False)"
      ]
     },
     "execution_count": 651,
     "metadata": {},
     "output_type": "execute_result"
    }
   ],
   "source": [
    "# Fitting the model\n",
    "\n",
    "logmodel = LogisticRegression() \n",
    "logmodel.fit(X_train, y_train) "
   ]
  },
  {
   "cell_type": "markdown",
   "metadata": {},
   "source": [
    "#### Hyperparameter Optimizaton"
   ]
  },
  {
   "cell_type": "code",
   "execution_count": 653,
   "metadata": {},
   "outputs": [
    {
     "name": "stdout",
     "output_type": "stream",
     "text": [
      "Threshold=0.514, Accuracy Score=0.84407\n"
     ]
    }
   ],
   "source": [
    "# Finding the best threeshold for the logistic regression model:\n",
    "\n",
    "# apply threshold to positive probabilities to create labels\n",
    "def to_labels(pos_probs, threshold):   \n",
    "    '''Takes the probabilities and returns the labels (either 0 or 1) given a threshold'''\n",
    "    return (pos_probs >= threshold).astype('int') \n",
    "\n",
    "def optimal_threshold(model, test):\n",
    "    '''Takes a test set and a model and returns the threshold that gives the best F-score'''\n",
    "    # predict probabilities\n",
    "    yhat = model.predict_proba(test)\n",
    "    # keep probabilities for the positive outcome only\n",
    "    probs = yhat[:,1] \n",
    "    # define thresholds\n",
    "    thresholds = np.arange(0, 1, 0.001)\n",
    "    # evaluate each threshold using f1_score as it tests the accuracy\n",
    "    scores = [accuracy_score(y_test, to_labels(probs, t)) for t in thresholds] \n",
    "    # get best threshold\n",
    "    ix = np.argmax(scores)\n",
    "    return print('Threshold=%.3f, Accuracy Score=%.5f' % (thresholds[ix], scores[ix]))\n",
    "\n",
    "optimal_threshold(logmodel, X_test)  "
   ]
  },
  {
   "cell_type": "code",
   "execution_count": 654,
   "metadata": {},
   "outputs": [
    {
     "data": {
      "text/plain": [
       "GridSearchCV(cv=None, error_score=nan,\n",
       "             estimator=LogisticRegression(C=1.0, class_weight=None, dual=False,\n",
       "                                          fit_intercept=True,\n",
       "                                          intercept_scaling=1, l1_ratio=None,\n",
       "                                          max_iter=100, multi_class='auto',\n",
       "                                          n_jobs=None, penalty='l2',\n",
       "                                          random_state=None, solver='lbfgs',\n",
       "                                          tol=0.0001, verbose=0,\n",
       "                                          warm_start=False),\n",
       "             iid='deprecated', n_jobs=None,\n",
       "             param_grid={'C': [0.1, 1, 10, 100, 1000, 10000],\n",
       "                         'penalty': ['l1', 'l2', 'elasticnet', 'none'],\n",
       "                         'solver': ['newton-cg', 'lbfgs', 'liblinear', 'sag',\n",
       "                                    'saga']},\n",
       "             pre_dispatch='2*n_jobs', refit=True, return_train_score=False,\n",
       "             scoring=None, verbose=0)"
      ]
     },
     "execution_count": 654,
     "metadata": {},
     "output_type": "execute_result"
    }
   ],
   "source": [
    "threshold = 0.514\n",
    "\n",
    "# Finding the best parameters\n",
    "\n",
    "param_grid = {'C': [0.1, 1, 10, 100, 1000, 10000], \n",
    "              'penalty': ['l1', 'l2', 'elasticnet', 'none'],\n",
    "             'solver': ['newton-cg', 'lbfgs', 'liblinear', 'sag', 'saga']} \n",
    "\n",
    "logmodel = GridSearchCV(LogisticRegression(), param_grid) \n",
    "logmodel.fit(X_train, y_train) "
   ]
  },
  {
   "cell_type": "code",
   "execution_count": 655,
   "metadata": {},
   "outputs": [
    {
     "data": {
      "text/plain": [
       "LogisticRegression(C=1.0, class_weight=None, dual=False, fit_intercept=True,\n",
       "                   intercept_scaling=1, l1_ratio=None, max_iter=100,\n",
       "                   multi_class='auto', n_jobs=None, penalty='l2',\n",
       "                   random_state=None, solver='lbfgs', tol=0.0001, verbose=0,\n",
       "                   warm_start=False)"
      ]
     },
     "execution_count": 655,
     "metadata": {},
     "output_type": "execute_result"
    }
   ],
   "source": [
    "logmodel = LogisticRegression(C=1.0, class_weight=None, dual=False,\n",
    "                                          fit_intercept=True,\n",
    "                                          intercept_scaling=1, l1_ratio=None,\n",
    "                                          max_iter=100, multi_class='auto',\n",
    "                                          n_jobs=None, penalty='l2',\n",
    "                                          random_state=None, solver='lbfgs',\n",
    "                                          tol=0.0001, verbose=0,\n",
    "                                          warm_start=False)\n",
    "logmodel.fit(X_train, y_train) "
   ]
  },
  {
   "cell_type": "markdown",
   "metadata": {},
   "source": [
    "#### Predictions from the Logistic Regression model "
   ]
  },
  {
   "cell_type": "code",
   "execution_count": 656,
   "metadata": {},
   "outputs": [],
   "source": [
    "# selecting predictions according to the threshold\n",
    "\n",
    "def pred_optimal_threshold(model, df, threshold):\n",
    "    '''Returns the predictions taking a threeshold as an argument'''\n",
    "    yhat = model.predict_proba(df)\n",
    "    # We take just the probabilities of being positive [:,1] and transpose it for comparison\n",
    "    return (yhat >= threshold).astype('int')[:,1].T\n",
    "\n",
    "logmodel_preds = pred_optimal_threshold(logmodel, X_test, threshold = 0.514)  "
   ]
  },
  {
   "cell_type": "code",
   "execution_count": 676,
   "metadata": {},
   "outputs": [
    {
     "name": "stdout",
     "output_type": "stream",
     "text": [
      "[[159  16]\n",
      " [ 30  90]] \n",
      "               precision    recall  f1-score   support\n",
      "\n",
      "           0       0.84      0.91      0.87       175\n",
      "           1       0.85      0.75      0.80       120\n",
      "\n",
      "    accuracy                           0.84       295\n",
      "   macro avg       0.85      0.83      0.84       295\n",
      "weighted avg       0.84      0.84      0.84       295\n",
      "\n"
     ]
    }
   ],
   "source": [
    "def report_confmatrix(model_preds):\n",
    "    '''Returns both, a confusion matrix and a classification report'''\n",
    "    return print(confusion_matrix(y_test, logmodel_preds), ('\\n'), \n",
    "                 classification_report(y_test, logmodel_preds))\n",
    "\n",
    "report_confmatrix(logmodel_preds)  "
   ]
  },
  {
   "cell_type": "markdown",
   "metadata": {},
   "source": [
    "#### Validation (Logistic Regression) "
   ]
  },
  {
   "cell_type": "code",
   "execution_count": 658,
   "metadata": {},
   "outputs": [],
   "source": [
    "def validation_mean_std(model):\n",
    "    '''Accepts a model and returns the mean and standard deviation of the different\n",
    "    cross validations (cross validation of 5 folds)'''\n",
    "    scores = cross_val_score(model, X, y, cv = 5)\n",
    "    return print(scores.mean(), scores.std()) "
   ]
  },
  {
   "cell_type": "code",
   "execution_count": 659,
   "metadata": {},
   "outputs": [],
   "source": [
    "def validation_mean_std(model):\n",
    "    '''Accepts a model and returns the accuracy mean and the standard deviation from the 5 folds cross\n",
    "    validation'''\n",
    "    scores = cross_val_score(model, X, y, cv = 5)\n",
    "    return scores.mean(), scores.std()  "
   ]
  },
  {
   "cell_type": "code",
   "execution_count": 660,
   "metadata": {},
   "outputs": [
    {
     "data": {
      "text/plain": [
       "(0.8125666938673028, 0.007692599698129739)"
      ]
     },
     "execution_count": 660,
     "metadata": {},
     "output_type": "execute_result"
    }
   ],
   "source": [
    "validation_mean_std(logmodel) "
   ]
  },
  {
   "cell_type": "markdown",
   "metadata": {},
   "source": [
    "### Random Forest"
   ]
  },
  {
   "cell_type": "code",
   "execution_count": 661,
   "metadata": {},
   "outputs": [
    {
     "data": {
      "text/plain": [
       "RandomForestClassifier(bootstrap=True, ccp_alpha=0.0, class_weight=None,\n",
       "                       criterion='gini', max_depth=None, max_features='auto',\n",
       "                       max_leaf_nodes=None, max_samples=None,\n",
       "                       min_impurity_decrease=0.0, min_impurity_split=None,\n",
       "                       min_samples_leaf=1, min_samples_split=2,\n",
       "                       min_weight_fraction_leaf=0.0, n_estimators=100,\n",
       "                       n_jobs=None, oob_score=True, random_state=1, verbose=0,\n",
       "                       warm_start=False)"
      ]
     },
     "execution_count": 661,
     "metadata": {},
     "output_type": "execute_result"
    }
   ],
   "source": [
    "rfc = RandomForestClassifier(oob_score = True, random_state = 1) \n",
    "rfc.fit(X_train, y_train) "
   ]
  },
  {
   "cell_type": "markdown",
   "metadata": {},
   "source": [
    "#### Parameter Optimization of the Random Forest"
   ]
  },
  {
   "cell_type": "code",
   "execution_count": 662,
   "metadata": {},
   "outputs": [
    {
     "name": "stdout",
     "output_type": "stream",
     "text": [
      "Fitting 5 folds for each of 100 candidates, totalling 500 fits\n"
     ]
    },
    {
     "name": "stderr",
     "output_type": "stream",
     "text": [
      "[Parallel(n_jobs=-1)]: Using backend LokyBackend with 8 concurrent workers.\n",
      "[Parallel(n_jobs=-1)]: Done  25 tasks      | elapsed:   14.3s\n",
      "[Parallel(n_jobs=-1)]: Done 146 tasks      | elapsed:   45.0s\n",
      "[Parallel(n_jobs=-1)]: Done 349 tasks      | elapsed:  1.6min\n",
      "[Parallel(n_jobs=-1)]: Done 500 out of 500 | elapsed:  2.2min finished\n"
     ]
    },
    {
     "data": {
      "text/plain": [
       "{'n_estimators': 200,\n",
       " 'min_samples_split': 12,\n",
       " 'min_samples_leaf': 4,\n",
       " 'max_depth': 30,\n",
       " 'criterion': 'gini'}"
      ]
     },
     "execution_count": 662,
     "metadata": {},
     "output_type": "execute_result"
    }
   ],
   "source": [
    "param_grid = {'min_samples_leaf' : [1, 4, 6, 8, 10], \n",
    "              'min_samples_split' : [2, 4, 6, 8, 10, 12, 16], \n",
    "              'n_estimators': [200, 500, 800],\n",
    "              'criterion' : [\"gini\", \"entropy\"],\n",
    "              'max_depth': [ 20, 30, 40, 50, None]}\n",
    "\n",
    "RS = RandomizedSearchCV(estimator = rfc, \n",
    "                        param_distributions = param_grid, \n",
    "                        n_iter = 100, verbose = 2, \n",
    "                        random_state = 42, n_jobs = -1)\n",
    "RS.fit(X_train, y_train) \n",
    "RS.best_params_"
   ]
  },
  {
   "cell_type": "code",
   "execution_count": 663,
   "metadata": {},
   "outputs": [
    {
     "data": {
      "text/plain": [
       "RandomForestClassifier(bootstrap=True, ccp_alpha=0.0, class_weight=None,\n",
       "                       criterion='gini', max_depth=30, max_features='auto',\n",
       "                       max_leaf_nodes=None, max_samples=None,\n",
       "                       min_impurity_decrease=0.0, min_impurity_split=None,\n",
       "                       min_samples_leaf=4, min_samples_split=12,\n",
       "                       min_weight_fraction_leaf=0.0, n_estimators=200,\n",
       "                       n_jobs=None, oob_score=True, random_state=1, verbose=0,\n",
       "                       warm_start=False)"
      ]
     },
     "execution_count": 663,
     "metadata": {},
     "output_type": "execute_result"
    }
   ],
   "source": [
    "rfc_model = RandomForestClassifier(oob_score = True, random_state = 1, n_estimators = 200,\n",
    "                            min_samples_split = 12, min_samples_leaf = 4, \n",
    "                            max_depth = 30, criterion = 'gini') \n",
    "rfc_model.fit(X_train, y_train) "
   ]
  },
  {
   "cell_type": "code",
   "execution_count": 665,
   "metadata": {},
   "outputs": [
    {
     "name": "stdout",
     "output_type": "stream",
     "text": [
      "Threshold=0.472, Accuracy Score=0.84068\n"
     ]
    }
   ],
   "source": [
    "optimal_threshold(rfc_model, X_test) "
   ]
  },
  {
   "cell_type": "markdown",
   "metadata": {},
   "source": [
    "#### Predictions Random Forest"
   ]
  },
  {
   "cell_type": "code",
   "execution_count": 667,
   "metadata": {},
   "outputs": [],
   "source": [
    "rfc_preds = pred_optimal_threshold(rfc_model, X_test, threshold = 0.472)    "
   ]
  },
  {
   "cell_type": "code",
   "execution_count": 668,
   "metadata": {},
   "outputs": [
    {
     "name": "stdout",
     "output_type": "stream",
     "text": [
      "[[159  16]\n",
      " [ 30  90]] \n",
      "               precision    recall  f1-score   support\n",
      "\n",
      "           0       0.84      0.91      0.87       175\n",
      "           1       0.85      0.75      0.80       120\n",
      "\n",
      "    accuracy                           0.84       295\n",
      "   macro avg       0.85      0.83      0.84       295\n",
      "weighted avg       0.84      0.84      0.84       295\n",
      "\n"
     ]
    }
   ],
   "source": [
    "report_confmatrix(rfc_preds) "
   ]
  },
  {
   "cell_type": "code",
   "execution_count": 669,
   "metadata": {},
   "outputs": [
    {
     "data": {
      "text/plain": [
       "(0.8271420500910176, 0.017351376675183026)"
      ]
     },
     "execution_count": 669,
     "metadata": {},
     "output_type": "execute_result"
    }
   ],
   "source": [
    "# Validation\n",
    "\n",
    "validation_mean_std(rfc_model) "
   ]
  },
  {
   "cell_type": "markdown",
   "metadata": {},
   "source": [
    "### Gradient Boost Classifier"
   ]
  },
  {
   "cell_type": "code",
   "execution_count": 670,
   "metadata": {},
   "outputs": [
    {
     "name": "stdout",
     "output_type": "stream",
     "text": [
      "[0.8271186440677966]\n",
      "\n",
      "23\n"
     ]
    }
   ],
   "source": [
    "score_gbes = [] \n",
    "n_estimators = 500\n",
    "\n",
    "\n",
    "# We specify that if the scores don't improve by atleast 0.01 for the last\n",
    "# 10 stages, stop fitting additional stages\n",
    "gbes = ensemble.GradientBoostingClassifier(n_estimators=n_estimators, \n",
    "                                           validation_fraction=0.2, \n",
    "                                           n_iter_no_change=5, tol=0.01, random_state=42) \n",
    "\n",
    "gbes.fit(X_train, y_train) \n",
    "score_gbes.append(gbes.score(X_test, y_test))\n",
    "\n",
    "print(score_gbes)\n",
    "print('')\n",
    "print(gbes.n_estimators_) "
   ]
  },
  {
   "cell_type": "code",
   "execution_count": 672,
   "metadata": {},
   "outputs": [
    {
     "name": "stdout",
     "output_type": "stream",
     "text": [
      "Threshold=0.470, Accuracy Score=0.82712\n"
     ]
    }
   ],
   "source": [
    "optimal_threshold(gbes, X_test)  "
   ]
  },
  {
   "cell_type": "code",
   "execution_count": 677,
   "metadata": {},
   "outputs": [
    {
     "name": "stdout",
     "output_type": "stream",
     "text": [
      "[[159  16]\n",
      " [ 30  90]] \n",
      "               precision    recall  f1-score   support\n",
      "\n",
      "           0       0.84      0.91      0.87       175\n",
      "           1       0.85      0.75      0.80       120\n",
      "\n",
      "    accuracy                           0.84       295\n",
      "   macro avg       0.85      0.83      0.84       295\n",
      "weighted avg       0.84      0.84      0.84       295\n",
      "\n"
     ]
    }
   ],
   "source": [
    "# Predictions \n",
    "\n",
    "gbes_preds = pred_optimal_threshold(gbes, X_test, threshold = 0.470)\n",
    "report_confmatrix(gbes_preds) "
   ]
  },
  {
   "cell_type": "code",
   "execution_count": 678,
   "metadata": {},
   "outputs": [
    {
     "data": {
      "text/plain": [
       "(0.8305065595380077, 0.012252747118109893)"
      ]
     },
     "execution_count": 678,
     "metadata": {},
     "output_type": "execute_result"
    }
   ],
   "source": [
    "# Validation\n",
    "\n",
    "validation_mean_std(gbes)  "
   ]
  },
  {
   "cell_type": "markdown",
   "metadata": {},
   "source": [
    "### XGBoost Classifier"
   ]
  },
  {
   "cell_type": "code",
   "execution_count": 679,
   "metadata": {},
   "outputs": [
    {
     "data": {
      "text/plain": [
       "0.8338983050847457"
      ]
     },
     "execution_count": 679,
     "metadata": {},
     "output_type": "execute_result"
    }
   ],
   "source": [
    "xgb = XGBClassifier() \n",
    "xgb.fit(X_train, y_train) \n",
    "xgb.score(X_test, y_test) "
   ]
  },
  {
   "cell_type": "code",
   "execution_count": 681,
   "metadata": {},
   "outputs": [
    {
     "name": "stdout",
     "output_type": "stream",
     "text": [
      "Fitting 4 folds for each of 50 candidates, totalling 200 fits\n"
     ]
    },
    {
     "name": "stderr",
     "output_type": "stream",
     "text": [
      "[Parallel(n_jobs=1)]: Using backend SequentialBackend with 1 concurrent workers.\n",
      "[Parallel(n_jobs=1)]: Done 200 out of 200 | elapsed:    2.6s finished\n"
     ]
    },
    {
     "data": {
      "text/plain": [
       "RandomizedSearchCV(cv=4, error_score=nan,\n",
       "                   estimator=XGBClassifier(base_score=0.5, booster='gbtree',\n",
       "                                           colsample_bylevel=1,\n",
       "                                           colsample_bynode=1,\n",
       "                                           colsample_bytree=1, gamma=0,\n",
       "                                           learning_rate=0.1, max_delta_step=0,\n",
       "                                           max_depth=3, min_child_weight=1,\n",
       "                                           missing=None, n_estimators=10,\n",
       "                                           n_jobs=1, nthread=None,\n",
       "                                           objective='binary:logistic',\n",
       "                                           random_state=0, reg_alpha=0,\n",
       "                                           reg_lambda=1, sca...ht=1,\n",
       "                                           seed=None, silent=None, subsample=1,\n",
       "                                           verbosity=1),\n",
       "                   iid='deprecated', n_iter=50, n_jobs=None,\n",
       "                   param_distributions={'colsample_bytree': [0.6, 0.7, 0.8, 0.9,\n",
       "                                                             1],\n",
       "                                        'learning_rate': [0.4, 0.45, 0.5, 0.55,\n",
       "                                                          0.6],\n",
       "                                        'max_depth': range(6, 10),\n",
       "                                        'n_estimators': range(8, 20)},\n",
       "                   pre_dispatch='2*n_jobs', random_state=None, refit=True,\n",
       "                   return_train_score=False, scoring='accuracy', verbose=1)"
      ]
     },
     "execution_count": 681,
     "metadata": {},
     "output_type": "execute_result"
    }
   ],
   "source": [
    "# Parameter Optimization\n",
    "\n",
    "gbm_param_grid = {\n",
    "    'n_estimators': range(8, 20),\n",
    "    'max_depth': range(6, 10),\n",
    "    'learning_rate': [.4, .45, .5, .55, .6],\n",
    "    'colsample_bytree': [.6, .7, .8, .9, 1]\n",
    "}\n",
    "\n",
    "# Instantiate the regressor: gbm\n",
    "gbm = XGBClassifier(n_estimators=10)\n",
    "\n",
    "# Perform random search\n",
    "xgb_random = RandomizedSearchCV(param_distributions=gbm_param_grid, \n",
    "                                    estimator = gbm, scoring = \"accuracy\", \n",
    "                                    verbose = 1, n_iter = 50, cv = 4) \n",
    "\n",
    "# Fit RandomizedSearchCV to the data\n",
    "xgb_random.fit(X_train, y_train)"
   ]
  },
  {
   "cell_type": "code",
   "execution_count": 683,
   "metadata": {},
   "outputs": [
    {
     "name": "stdout",
     "output_type": "stream",
     "text": [
      "{'n_estimators': 10, 'max_depth': 6, 'learning_rate': 0.6, 'colsample_bytree': 0.6}\n"
     ]
    }
   ],
   "source": [
    "print(xgb_random.best_params_) "
   ]
  },
  {
   "cell_type": "code",
   "execution_count": 684,
   "metadata": {},
   "outputs": [
    {
     "data": {
      "text/plain": [
       "XGBClassifier(base_score=0.5, booster='gbtree', colsample_bylevel=1,\n",
       "              colsample_bynode=1, colsample_bytree=0.6, gamma=0,\n",
       "              learning_rate=0.6, max_delta_step=0, max_depth=6,\n",
       "              min_child_weight=1, missing=None, n_estimators=10, n_jobs=1,\n",
       "              nthread=None, objective='binary:logistic', random_state=0,\n",
       "              reg_alpha=0, reg_lambda=1, scale_pos_weight=1, seed=None,\n",
       "              silent=None, subsample=1, verbosity=1)"
      ]
     },
     "execution_count": 684,
     "metadata": {},
     "output_type": "execute_result"
    }
   ],
   "source": [
    "xgb_model = XGBClassifier(n_estimators = 10, max_depth = 6, learning_rate = 0.6,\n",
    "                         colsample_bytree = 0.6) \n",
    "xgb_model.fit(X_train, y_train) "
   ]
  },
  {
   "cell_type": "code",
   "execution_count": 686,
   "metadata": {},
   "outputs": [
    {
     "name": "stdout",
     "output_type": "stream",
     "text": [
      "Threshold=0.599, Accuracy Score=0.83051\n"
     ]
    }
   ],
   "source": [
    "optimal_threshold(xgb_model, X_test) "
   ]
  },
  {
   "cell_type": "code",
   "execution_count": 688,
   "metadata": {},
   "outputs": [
    {
     "name": "stdout",
     "output_type": "stream",
     "text": [
      "[[159  16]\n",
      " [ 30  90]] \n",
      "               precision    recall  f1-score   support\n",
      "\n",
      "           0       0.84      0.91      0.87       175\n",
      "           1       0.85      0.75      0.80       120\n",
      "\n",
      "    accuracy                           0.84       295\n",
      "   macro avg       0.85      0.83      0.84       295\n",
      "weighted avg       0.84      0.84      0.84       295\n",
      "\n"
     ]
    }
   ],
   "source": [
    "# Predictions \n",
    "\n",
    "xgb_preds = pred_optimal_threshold(xgb_model, X_test, threshold = 0.599)\n",
    "report_confmatrix(xgb_model)  "
   ]
  },
  {
   "cell_type": "code",
   "execution_count": 689,
   "metadata": {},
   "outputs": [
    {
     "data": {
      "text/plain": [
       "(0.8350009415604797, 0.024090870769792324)"
      ]
     },
     "execution_count": 689,
     "metadata": {},
     "output_type": "execute_result"
    }
   ],
   "source": [
    "# Validation\n",
    "\n",
    "validation_mean_std(xgb_model) "
   ]
  },
  {
   "cell_type": "code",
   "execution_count": 587,
   "metadata": {},
   "outputs": [],
   "source": [
    "# Creating the submission file\n",
    "\n",
    "xgb_model.fit(X_train, y_train) \n",
    "xgb_preds = pred_optimal_threshold(xgb_model, test, threshold = 0.599)\n",
    "create_submission('xgb_preds', xgb_preds) "
   ]
  },
  {
   "cell_type": "markdown",
   "metadata": {},
   "source": [
    "We got a score of 0.77511 in the competition using this model."
   ]
  },
  {
   "cell_type": "markdown",
   "metadata": {},
   "source": [
    "### LightGBM"
   ]
  },
  {
   "cell_type": "code",
   "execution_count": 690,
   "metadata": {},
   "outputs": [
    {
     "data": {
      "text/plain": [
       "0.8135593220338984"
      ]
     },
     "execution_count": 690,
     "metadata": {},
     "output_type": "execute_result"
    }
   ],
   "source": [
    "lgb_model = LGBMClassifier()\n",
    "lgb_model.fit(X_train, y_train)  \n",
    "lgb_model.score(X_test, y_test)  "
   ]
  },
  {
   "cell_type": "code",
   "execution_count": 691,
   "metadata": {},
   "outputs": [
    {
     "name": "stdout",
     "output_type": "stream",
     "text": [
      "Threshold=0.543, Accuracy Score=0.82034\n"
     ]
    }
   ],
   "source": [
    "# Getting the optimal threshold\n",
    "\n",
    "optimal_threshold(lgb_model, X_test) "
   ]
  },
  {
   "cell_type": "code",
   "execution_count": 692,
   "metadata": {},
   "outputs": [
    {
     "name": "stdout",
     "output_type": "stream",
     "text": [
      "[[159  16]\n",
      " [ 30  90]] \n",
      "               precision    recall  f1-score   support\n",
      "\n",
      "           0       0.84      0.91      0.87       175\n",
      "           1       0.85      0.75      0.80       120\n",
      "\n",
      "    accuracy                           0.84       295\n",
      "   macro avg       0.85      0.83      0.84       295\n",
      "weighted avg       0.84      0.84      0.84       295\n",
      "\n"
     ]
    }
   ],
   "source": [
    "# Predictions \n",
    "threshold = 0.543\n",
    "lgb_preds = pred_optimal_threshold(lgb_model, X_test, threshold)\n",
    "report_confmatrix(lgb_model) "
   ]
  },
  {
   "cell_type": "code",
   "execution_count": 693,
   "metadata": {},
   "outputs": [
    {
     "data": {
      "text/plain": [
       "(0.8339150084740442, 0.019129780037096422)"
      ]
     },
     "execution_count": 693,
     "metadata": {},
     "output_type": "execute_result"
    }
   ],
   "source": [
    "# Validation\n",
    "\n",
    "validation_mean_std(lgb_model) "
   ]
  },
  {
   "cell_type": "markdown",
   "metadata": {},
   "source": [
    "### Model Comparisson"
   ]
  },
  {
   "cell_type": "code",
   "execution_count": 694,
   "metadata": {},
   "outputs": [],
   "source": [
    "models = [logmodel, rfc_model, gbes, xgb_model, lgb_model] \n",
    "accuracies = [] \n",
    "stds = [] \n",
    "\n",
    "for i in range(len(models)):\n",
    "    accuracies.append(validation_mean_std(models[i])[0]) \n",
    "    stds.append(validation_mean_std(models[i])[1]) "
   ]
  },
  {
   "cell_type": "code",
   "execution_count": 695,
   "metadata": {},
   "outputs": [],
   "source": [
    "model_results = pd.DataFrame([models, accuracies, stds]).T\n",
    "model_results.columns = ['Model', 'Average Accuracy', 'Average Std'] \n",
    "model_results.Model = ['Logistic Regression', 'Random Forest', 'Gradient Boost',\n",
    "                      'XGBClassifier', 'LGBClassifier'] "
   ]
  },
  {
   "cell_type": "code",
   "execution_count": 696,
   "metadata": {},
   "outputs": [
    {
     "data": {
      "text/html": [
       "<div>\n",
       "<style scoped>\n",
       "    .dataframe tbody tr th:only-of-type {\n",
       "        vertical-align: middle;\n",
       "    }\n",
       "\n",
       "    .dataframe tbody tr th {\n",
       "        vertical-align: top;\n",
       "    }\n",
       "\n",
       "    .dataframe thead th {\n",
       "        text-align: right;\n",
       "    }\n",
       "</style>\n",
       "<table border=\"1\" class=\"dataframe\">\n",
       "  <thead>\n",
       "    <tr style=\"text-align: right;\">\n",
       "      <th></th>\n",
       "      <th>Model</th>\n",
       "      <th>Average Accuracy</th>\n",
       "      <th>Average Std</th>\n",
       "    </tr>\n",
       "  </thead>\n",
       "  <tbody>\n",
       "    <tr>\n",
       "      <th>0</th>\n",
       "      <td>Logistic Regression</td>\n",
       "      <td>0.812567</td>\n",
       "      <td>0.0076926</td>\n",
       "    </tr>\n",
       "    <tr>\n",
       "      <th>1</th>\n",
       "      <td>Random Forest</td>\n",
       "      <td>0.827142</td>\n",
       "      <td>0.0173514</td>\n",
       "    </tr>\n",
       "    <tr>\n",
       "      <th>2</th>\n",
       "      <td>Gradient Boost</td>\n",
       "      <td>0.830507</td>\n",
       "      <td>0.0122527</td>\n",
       "    </tr>\n",
       "    <tr>\n",
       "      <th>3</th>\n",
       "      <td>XGBClassifier</td>\n",
       "      <td>0.835001</td>\n",
       "      <td>0.0240909</td>\n",
       "    </tr>\n",
       "    <tr>\n",
       "      <th>4</th>\n",
       "      <td>LGBClassifier</td>\n",
       "      <td>0.833915</td>\n",
       "      <td>0.0191298</td>\n",
       "    </tr>\n",
       "  </tbody>\n",
       "</table>\n",
       "</div>"
      ],
      "text/plain": [
       "                 Model Average Accuracy Average Std\n",
       "0  Logistic Regression         0.812567   0.0076926\n",
       "1        Random Forest         0.827142   0.0173514\n",
       "2       Gradient Boost         0.830507   0.0122527\n",
       "3        XGBClassifier         0.835001   0.0240909\n",
       "4        LGBClassifier         0.833915   0.0191298"
      ]
     },
     "execution_count": 696,
     "metadata": {},
     "output_type": "execute_result"
    }
   ],
   "source": [
    "model_results"
   ]
  },
  {
   "cell_type": "code",
   "execution_count": 698,
   "metadata": {},
   "outputs": [
    {
     "data": {
      "text/plain": [
       "(0.775, 0.875)"
      ]
     },
     "execution_count": 698,
     "metadata": {},
     "output_type": "execute_result"
    },
    {
     "data": {
      "image/png": "[encoded data removed]",
      "text/plain": [
       "<Figure size 1000x800 with 1 Axes>"
      ]
     },
     "metadata": {},
     "output_type": "display_data"
    }
   ],
   "source": [
    "plt.figure(figsize=(10,8)) \n",
    "sns.barplot(y = 'Average Accuracy', x = 'Model', yerr = model_results['Average Std']*1, \n",
    "            capsize=.2, data = model_results)  \n",
    "plt.xticks(rotation=45) \n",
    "plt.title('Model Comparisson', fontsize = 'x-large')\n",
    "plt.ylim(0.775, 0.875)   "
   ]
  },
  {
   "cell_type": "markdown",
   "metadata": {},
   "source": [
    "**Conclusion**: The XGBClassifier seems to be algorithm that gave us the best accuracy score using cross validations with 5 folds (~ 83%), but it's also the model that had the greatest relative standard deviation (~ 3%), whereas our Logistic Regression model had the smallest standard deviation (~ 0.7%) but also the lowest accuracy score (~ 81%). \n",
    "\n",
    "The most balanced ones would be the Gradient Boost and the LGBClassifier, both with a score of 83% approximateldy and a relative standard deviation between 1% and 2%."
   ]
  },
  {
   "cell_type": "markdown",
   "metadata": {},
   "source": [
    "## Ensemble\n",
    "\n",
    "We need to improve our score and for that purpose we will now create different ensembling models, for the ensembling we will use the models we have already tried and we will ensemble them different ensembling techniques, namely: Ensembling with equal weights, weighted ensembling, manual stacking, stacking and voting classifier."
   ]
  },
  {
   "cell_type": "markdown",
   "metadata": {},
   "source": [
    "We first need to collect all the probabilities given by the different models."
   ]
  },
  {
   "cell_type": "code",
   "execution_count": 699,
   "metadata": {},
   "outputs": [],
   "source": [
    "logmodel_proba = pd.DataFrame(logmodel.predict_proba(X_test))[1] \n",
    "rfc_proba = pd.DataFrame(rfc_model.predict_proba(X_test))[1]\n",
    "gbes_proba = pd.DataFrame(gbes.predict_proba(X_test))[1] \n",
    "xgb_proba = pd.DataFrame(xgb_model.predict_proba(X_test))[1]\n",
    "lgb_proba = pd.DataFrame(lgb_model.predict_proba(X_test))[1] "
   ]
  },
  {
   "cell_type": "markdown",
   "metadata": {},
   "source": [
    "### Ensembling with equal weights"
   ]
  },
  {
   "cell_type": "code",
   "execution_count": 700,
   "metadata": {},
   "outputs": [],
   "source": [
    "# Ensembling with equal weights\n",
    "\n",
    "ens_val_prob = 0.2*logmodel_proba + 0.2*rfc_proba + 0.2*gbes_proba + 0.2*xgb_proba + 0.2*lgb_proba"
   ]
  },
  {
   "cell_type": "code",
   "execution_count": 701,
   "metadata": {},
   "outputs": [
    {
     "data": {
      "text/plain": [
       "0.47000000000000003"
      ]
     },
     "execution_count": 701,
     "metadata": {},
     "output_type": "execute_result"
    }
   ],
   "source": [
    "# Looking for the optimal threshold\n",
    "\n",
    "def optimal_threshold_ensemble(probas):\n",
    "    '''Accepts probabilities and return the best possible threshold'''\n",
    "    accuracy_scores = [] \n",
    "    thresholds = [] \n",
    "    for t in np.arange(0.00, 0.99, 0.01):\n",
    "        accuracy_scores.append(accuracy_score(y_test, (probas >= t).astype('int'))) \n",
    "        thresholds.append(t)\n",
    "    return thresholds[np.argmax(accuracy_scores)]  \n",
    "\n",
    "optimal_threshold_ensemble(ens_val_prob)  "
   ]
  },
  {
   "cell_type": "code",
   "execution_count": 702,
   "metadata": {},
   "outputs": [
    {
     "name": "stdout",
     "output_type": "stream",
     "text": [
      "[[163  12]\n",
      " [ 36  84]]\n",
      "\n",
      "              precision    recall  f1-score   support\n",
      "\n",
      "           0       0.82      0.93      0.87       175\n",
      "           1       0.88      0.70      0.78       120\n",
      "\n",
      "    accuracy                           0.84       295\n",
      "   macro avg       0.85      0.82      0.82       295\n",
      "weighted avg       0.84      0.84      0.83       295\n",
      "\n"
     ]
    }
   ],
   "source": [
    "# Predictions of the ensembled model:\n",
    "threshold = 0.47\n",
    "ens_val_pred = [1 if x >= threshold else 0 for x in ens_val_prob] \n",
    "\n",
    "print(confusion_matrix(y_test, ens_val_pred))\n",
    "print('') \n",
    "print(classification_report(y_test, ens_val_pred))  "
   ]
  },
  {
   "cell_type": "code",
   "execution_count": null,
   "metadata": {},
   "outputs": [],
   "source": [
    "# Now let's apply this to the data we want to predict for the competition"
   ]
  },
  {
   "cell_type": "code",
   "execution_count": 703,
   "metadata": {},
   "outputs": [],
   "source": [
    "logmodel_proba = pd.DataFrame(logmodel.predict_proba(test))[1] \n",
    "rfc_proba = pd.DataFrame(rfc_model.predict_proba(test))[1]\n",
    "gbes_proba = pd.DataFrame(gbes.predict_proba(test))[1] \n",
    "xgb_proba = pd.DataFrame(xgb_model.predict_proba(test))[1]\n",
    "lgb_proba = pd.DataFrame(lgb_model.predict_proba(test))[1] \n",
    "\n",
    "ens_val_prob = 0.2*logmodel_proba + 0.2*rfc_proba + 0.2*gbes_proba + 0.2*xgb_proba + 0.2*lgb_proba"
   ]
  },
  {
   "cell_type": "code",
   "execution_count": 704,
   "metadata": {},
   "outputs": [],
   "source": [
    "ens_val_pred = [1 if x >= threshold else 0 for x in ens_val_prob] "
   ]
  },
  {
   "cell_type": "code",
   "execution_count": 492,
   "metadata": {},
   "outputs": [],
   "source": [
    "def create_submission(name, preds):\n",
    "    '''Accepts a name and an array with the predictions, it returns a .csv file prepared to be submitted'''\n",
    "    preds = pd.DataFrame(preds)\n",
    "    preds.columns = ['Survived']\n",
    "    preds['PassengerId'] = Test_titanic['PassengerId']\n",
    "    preds.to_csv(name+'.csv', index = False) \n",
    "\n",
    "create_submission('ens_val_pred', ens_val_pred)  "
   ]
  },
  {
   "cell_type": "markdown",
   "metadata": {},
   "source": [
    "This one gave us a score of 0.77511 in the competition"
   ]
  },
  {
   "cell_type": "markdown",
   "metadata": {},
   "source": [
    "### Weighted Ensembling"
   ]
  },
  {
   "cell_type": "markdown",
   "metadata": {},
   "source": [
    "Let's try now using a weighted approach, we will take into consideration what we found out in the model comparisson"
   ]
  },
  {
   "cell_type": "code",
   "execution_count": 705,
   "metadata": {},
   "outputs": [],
   "source": [
    "ens_weight_prob = (\n",
    "    0.15*logmodel_proba + 0.1*rfc_proba + 0.30*gbes_proba + 0.2*xgb_proba + 0.25*lgb_proba\n",
    ") "
   ]
  },
  {
   "cell_type": "code",
   "execution_count": 706,
   "metadata": {},
   "outputs": [],
   "source": [
    "ens_weighted_pred = [1 if x >= 0.5 else 0 for x in ens_weight_prob] "
   ]
  },
  {
   "cell_type": "code",
   "execution_count": 498,
   "metadata": {},
   "outputs": [],
   "source": [
    "create_submission('ens_weighted_pred', ens_weighted_pred) "
   ]
  },
  {
   "cell_type": "markdown",
   "metadata": {},
   "source": [
    "This ensemble gave us 0.77511, same score as before."
   ]
  },
  {
   "cell_type": "markdown",
   "metadata": {},
   "source": [
    "### Ensembling using Machine Learning (Manual Stacking)"
   ]
  },
  {
   "cell_type": "code",
   "execution_count": 707,
   "metadata": {},
   "outputs": [],
   "source": [
    "def ensembling_engine(models_list, train_x, train_y, test_x, ensembler):\n",
    "    '''Accepts a list of models to ensemble, a train dataset with the features, a trainset with the target, \n",
    "    a test dataset with the features and an ensembler model. It returns a matrix with the probabilities'''\n",
    "    # Creates a train matrix and populate it with the probabilities calculated by the models using X_train.\n",
    "    train_matrix = np.empty((train_x.shape[0], len(models_list))) \n",
    "    for n, model in enumerate(models_list):\n",
    "        train_matrix[:,n] = pd.DataFrame(model.predict_proba(train_x))[1]\n",
    "    # Fits the ensembler to the train matrix and the target dataset\n",
    "    ensembler.fit(train_matrix, train_y) \n",
    "    # Creates a test matrix and populates it with the probabilitites calculated by the models using X_test    \n",
    "    test_matrix = np.empty((test_x.shape[0], len(models_list)))\n",
    "    for n, model in enumerate(models_list):\n",
    "        test_matrix[:,n] = pd.DataFrame(model.predict_proba(test_x))[1]\n",
    "    # Calculates the probabilities using the ensembler over the test matrix\n",
    "    ens_proba = ensembler.predict_proba(test_matrix)\n",
    "    # Returns a matrix with the probabilities\n",
    "    return ens_proba        "
   ]
  },
  {
   "cell_type": "markdown",
   "metadata": {},
   "source": [
    "#### Ensembling using a Logistic Regression model"
   ]
  },
  {
   "cell_type": "code",
   "execution_count": 708,
   "metadata": {},
   "outputs": [],
   "source": [
    "ensembler = LogisticRegression() "
   ]
  },
  {
   "cell_type": "code",
   "execution_count": 709,
   "metadata": {},
   "outputs": [],
   "source": [
    "lr_ens_val_prob = ensembling_engine(models, X_train, y_train, X_test, ensembler) \n",
    "lr_ens_val_prob = pd.DataFrame(lr_ens_val_prob)[1] "
   ]
  },
  {
   "cell_type": "code",
   "execution_count": 710,
   "metadata": {},
   "outputs": [
    {
     "data": {
      "text/plain": [
       "0.5"
      ]
     },
     "execution_count": 710,
     "metadata": {},
     "output_type": "execute_result"
    }
   ],
   "source": [
    "optimal_threshold_ensemble(lr_ens_val_prob) "
   ]
  },
  {
   "cell_type": "code",
   "execution_count": 711,
   "metadata": {},
   "outputs": [],
   "source": [
    "threshold = 0.5\n",
    "lr_ens_val_pred = [1 if x >= threshold else 0 for x in lr_ens_val_prob] "
   ]
  },
  {
   "cell_type": "code",
   "execution_count": 713,
   "metadata": {},
   "outputs": [
    {
     "name": "stdout",
     "output_type": "stream",
     "text": [
      "[[160  15]\n",
      " [ 38  82]]                precision    recall  f1-score   support\n",
      "\n",
      "           0       0.81      0.91      0.86       175\n",
      "           1       0.85      0.68      0.76       120\n",
      "\n",
      "    accuracy                           0.82       295\n",
      "   macro avg       0.83      0.80      0.81       295\n",
      "weighted avg       0.82      0.82      0.82       295\n",
      "\n"
     ]
    }
   ],
   "source": [
    "def classification_report_ensemble(preds):\n",
    "    return print(confusion_matrix(y_test, preds), (''), \n",
    "                classification_report(y_test, preds))\n",
    "\n",
    "classification_report_ensemble(lr_ens_val_pred) "
   ]
  },
  {
   "cell_type": "code",
   "execution_count": 714,
   "metadata": {},
   "outputs": [],
   "source": [
    "# Let's calculate it now using the test set\n",
    "\n",
    "lr_ens_val_prob = ensembling_engine(models, X_train, y_train, test, ensembler) \n",
    "lr_ens_val_prob = pd.DataFrame(lr_ens_val_prob)[1] \n",
    "lr_ens_val_pred = [1 if x >= threshold else 0 for x in lr_ens_val_prob] "
   ]
  },
  {
   "cell_type": "code",
   "execution_count": 540,
   "metadata": {},
   "outputs": [],
   "source": [
    "# Creating the submission file\n",
    "create_submission('lr_ens_pred', lr_ens_val_pred) "
   ]
  },
  {
   "cell_type": "markdown",
   "metadata": {},
   "source": [
    "We got a score of 0.7799, it's an improvement over the unweighted and weighted models previously used."
   ]
  },
  {
   "cell_type": "markdown",
   "metadata": {},
   "source": [
    "#### Ensembling using a Random Forest model"
   ]
  },
  {
   "cell_type": "code",
   "execution_count": 715,
   "metadata": {},
   "outputs": [],
   "source": [
    "ensembler = RandomForestClassifier() \n",
    "rfc_ens_val_prob = ensembling_engine(models, X_train, y_train, X_test, ensembler) \n",
    "rfc_ens_val_prob = pd.DataFrame(rfc_ens_val_prob)[1] "
   ]
  },
  {
   "cell_type": "code",
   "execution_count": 716,
   "metadata": {},
   "outputs": [
    {
     "data": {
      "text/plain": [
       "0.25"
      ]
     },
     "execution_count": 716,
     "metadata": {},
     "output_type": "execute_result"
    }
   ],
   "source": [
    "optimal_threshold_ensemble(rfc_ens_val_prob) "
   ]
  },
  {
   "cell_type": "code",
   "execution_count": 717,
   "metadata": {},
   "outputs": [],
   "source": [
    "threshold = 0.25\n",
    "rfc_ens_val_pred = [1 if x >= threshold else 0 for x in rfc_ens_val_prob] "
   ]
  },
  {
   "cell_type": "code",
   "execution_count": 718,
   "metadata": {},
   "outputs": [
    {
     "name": "stdout",
     "output_type": "stream",
     "text": [
      "[[144  31]\n",
      " [ 29  91]]                precision    recall  f1-score   support\n",
      "\n",
      "           0       0.83      0.82      0.83       175\n",
      "           1       0.75      0.76      0.75       120\n",
      "\n",
      "    accuracy                           0.80       295\n",
      "   macro avg       0.79      0.79      0.79       295\n",
      "weighted avg       0.80      0.80      0.80       295\n",
      "\n"
     ]
    }
   ],
   "source": [
    "classification_report_ensemble(rfc_ens_val_pred) "
   ]
  },
  {
   "cell_type": "code",
   "execution_count": 566,
   "metadata": {},
   "outputs": [],
   "source": [
    "rfc_ens_val_prob = ensembling_engine(models, X_train, y_train, test, ensembler) \n",
    "rfc_ens_val_prob = pd.DataFrame(rfc_ens_val_prob)[1] \n",
    "rfc_ens_val_pred = [1 if x >= threshold else 0 for x in rfc_ens_val_prob] \n",
    "# Creating the submission file\n",
    "create_submission('rfc_ens_pred', rfc_ens_val_pred) "
   ]
  },
  {
   "cell_type": "markdown",
   "metadata": {},
   "source": [
    "We got a score of 0.7488, way worse than with the Logistic Regression ensembler"
   ]
  },
  {
   "cell_type": "markdown",
   "metadata": {},
   "source": [
    "#### Ensembling using a Gradient Boost Classifier"
   ]
  },
  {
   "cell_type": "code",
   "execution_count": 719,
   "metadata": {},
   "outputs": [
    {
     "data": {
      "text/plain": [
       "0.98"
      ]
     },
     "execution_count": 719,
     "metadata": {},
     "output_type": "execute_result"
    }
   ],
   "source": [
    "ensembler = GradientBoostingClassifier() \n",
    "gbc_ens_val_prob = ensembling_engine(models, X_train, y_train, X_test, ensembler) \n",
    "gbc_ens_val_prob = pd.DataFrame(gbc_ens_val_prob)[1] \n",
    "optimal_threshold_ensemble(gbc_ens_val_prob) "
   ]
  },
  {
   "cell_type": "code",
   "execution_count": 720,
   "metadata": {},
   "outputs": [
    {
     "name": "stdout",
     "output_type": "stream",
     "text": [
      "[[165  10]\n",
      " [ 51  69]]                precision    recall  f1-score   support\n",
      "\n",
      "           0       0.76      0.94      0.84       175\n",
      "           1       0.87      0.57      0.69       120\n",
      "\n",
      "    accuracy                           0.79       295\n",
      "   macro avg       0.82      0.76      0.77       295\n",
      "weighted avg       0.81      0.79      0.78       295\n",
      "\n"
     ]
    }
   ],
   "source": [
    "threshold = 0.98\n",
    "gbc_ens_val_pred = [1 if x >= threshold else 0 for x in gbc_ens_val_prob] \n",
    "classification_report_ensemble(gbc_ens_val_pred) "
   ]
  },
  {
   "cell_type": "code",
   "execution_count": 569,
   "metadata": {},
   "outputs": [],
   "source": [
    "gbc_ens_val_prob = ensembling_engine(models, X_train, y_train, test, ensembler) \n",
    "gbc_ens_val_prob = pd.DataFrame(gbc_ens_val_prob)[1] \n",
    "gbc_ens_val_pred = [1 if x >= threshold else 0 for x in gbc_ens_val_prob]\n",
    "# Creating the submission file\n",
    "create_submission('gbc_ens_pred', gbc_ens_val_pred) "
   ]
  },
  {
   "cell_type": "markdown",
   "metadata": {},
   "source": [
    "Score of 0.73923 which is the worse of all of them"
   ]
  },
  {
   "cell_type": "markdown",
   "metadata": {},
   "source": [
    "### Voting Classifier"
   ]
  },
  {
   "cell_type": "code",
   "execution_count": 721,
   "metadata": {},
   "outputs": [
    {
     "data": {
      "text/plain": [
       "VotingClassifier(estimators=[('xgb',\n",
       "                              XGBClassifier(base_score=0.5, booster='gbtree',\n",
       "                                            colsample_bylevel=1,\n",
       "                                            colsample_bynode=1,\n",
       "                                            colsample_bytree=1, gamma=0,\n",
       "                                            learning_rate=0.1, max_delta_step=0,\n",
       "                                            max_depth=3, min_child_weight=1,\n",
       "                                            missing=None, n_estimators=100,\n",
       "                                            n_jobs=1, nthread=None,\n",
       "                                            objective='binary:logistic',\n",
       "                                            random_state=0, reg_alpha=0,\n",
       "                                            reg_lambda=1, scale_pos_weight...\n",
       "                                                     criterion='gini',\n",
       "                                                     max_depth=None,\n",
       "                                                     max_features='auto',\n",
       "                                                     max_leaf_nodes=None,\n",
       "                                                     max_samples=None,\n",
       "                                                     min_impurity_decrease=0.0,\n",
       "                                                     min_impurity_split=None,\n",
       "                                                     min_samples_leaf=1,\n",
       "                                                     min_samples_split=2,\n",
       "                                                     min_weight_fraction_leaf=0.0,\n",
       "                                                     n_estimators=100,\n",
       "                                                     n_jobs=None,\n",
       "                                                     oob_score=False,\n",
       "                                                     random_state=None,\n",
       "                                                     verbose=0,\n",
       "                                                     warm_start=False))],\n",
       "                 flatten_transform=True, n_jobs=None, voting='soft',\n",
       "                 weights=None)"
      ]
     },
     "execution_count": 721,
     "metadata": {},
     "output_type": "execute_result"
    }
   ],
   "source": [
    "xgb = XGBClassifier()\n",
    "lgb = LGBMClassifier()\n",
    "lr = LogisticRegression()\n",
    "rfc = RandomForestClassifier() \n",
    "\n",
    "voting_clf = VotingClassifier(estimators=[('xgb', xgb), ('lgb', lgb), ('lr', lr), \n",
    "                                          ('rfc', rfc)], voting='soft') \n",
    "voting_clf.fit(X_train, y_train) "
   ]
  },
  {
   "cell_type": "code",
   "execution_count": 723,
   "metadata": {},
   "outputs": [
    {
     "name": "stdout",
     "output_type": "stream",
     "text": [
      "Threshold=0.369, Accuracy Score=0.84068\n"
     ]
    }
   ],
   "source": [
    "# Getting the optimal threshold\n",
    "\n",
    "optimal_threshold(voting_clf, X_test)  "
   ]
  },
  {
   "cell_type": "code",
   "execution_count": 724,
   "metadata": {},
   "outputs": [],
   "source": [
    "threshold = 0.369\n",
    "v_val_prob = voting_clf.predict_proba(X_test)\n",
    "v_val_prob = pd.DataFrame(v_val_prob)[1]\n",
    "v_val_pred = [1 if x >= threshold else 0 for x in v_val_prob] "
   ]
  },
  {
   "cell_type": "code",
   "execution_count": 725,
   "metadata": {},
   "outputs": [
    {
     "name": "stdout",
     "output_type": "stream",
     "text": [
      "[[153  22]\n",
      " [ 25  95]]                precision    recall  f1-score   support\n",
      "\n",
      "           0       0.86      0.87      0.87       175\n",
      "           1       0.81      0.79      0.80       120\n",
      "\n",
      "    accuracy                           0.84       295\n",
      "   macro avg       0.84      0.83      0.83       295\n",
      "weighted avg       0.84      0.84      0.84       295\n",
      "\n"
     ]
    }
   ],
   "source": [
    "classification_report_ensemble(v_val_pred) "
   ]
  },
  {
   "cell_type": "code",
   "execution_count": 583,
   "metadata": {},
   "outputs": [],
   "source": [
    "v_val_prob = voting_clf.predict_proba(test)\n",
    "v_val_prob = pd.DataFrame(v_val_prob)[1]\n",
    "v_val_pred = [1 if x >= threshold else 0 for x in v_val_prob] \n",
    "# Creating the submission file\n",
    "create_submission('voting_ens_pred', v_val_pred) "
   ]
  },
  {
   "cell_type": "markdown",
   "metadata": {},
   "source": [
    "Score of 0.77511, didn't improve our score"
   ]
  },
  {
   "cell_type": "markdown",
   "metadata": {},
   "source": [
    "### Stacking Ensemble"
   ]
  },
  {
   "cell_type": "code",
   "execution_count": 726,
   "metadata": {},
   "outputs": [
    {
     "data": {
      "text/plain": [
       "StackingClassifier(cv=None,\n",
       "                   estimators=[('xgb',\n",
       "                                XGBClassifier(base_score=0.5, booster='gbtree',\n",
       "                                              colsample_bylevel=1,\n",
       "                                              colsample_bynode=1,\n",
       "                                              colsample_bytree=1, gamma=0,\n",
       "                                              learning_rate=0.1,\n",
       "                                              max_delta_step=0, max_depth=3,\n",
       "                                              min_child_weight=1, missing=None,\n",
       "                                              n_estimators=100, n_jobs=1,\n",
       "                                              nthread=None,\n",
       "                                              objective='binary:logistic',\n",
       "                                              random_state=0, reg_alpha=0,\n",
       "                                              reg_lambda=1, scale_...\n",
       "                                                              max_leaf_nodes=None,\n",
       "                                                              min_impurity_decrease=0.0,\n",
       "                                                              min_impurity_split=None,\n",
       "                                                              min_samples_leaf=1,\n",
       "                                                              min_samples_split=2,\n",
       "                                                              min_weight_fraction_leaf=0.0,\n",
       "                                                              n_estimators=100,\n",
       "                                                              n_iter_no_change=None,\n",
       "                                                              presort='deprecated',\n",
       "                                                              random_state=None,\n",
       "                                                              subsample=1.0,\n",
       "                                                              tol=0.0001,\n",
       "                                                              validation_fraction=0.1,\n",
       "                                                              verbose=0,\n",
       "                                                              warm_start=False),\n",
       "                   n_jobs=None, passthrough=False, stack_method='auto',\n",
       "                   verbose=0)"
      ]
     },
     "execution_count": 726,
     "metadata": {},
     "output_type": "execute_result"
    }
   ],
   "source": [
    "stacking_clf = StackingClassifier(estimators=[('xgb', xgb), ('lgb', lgb), ('lr', lr), \n",
    "                                              ('rfc', rfc)], \n",
    "                                 final_estimator=GradientBoostingClassifier()) \n",
    "\n",
    "stacking_clf.fit(X_train, y_train) "
   ]
  },
  {
   "cell_type": "code",
   "execution_count": 728,
   "metadata": {},
   "outputs": [
    {
     "name": "stdout",
     "output_type": "stream",
     "text": [
      "Threshold=0.499, Accuracy Score=0.84407\n"
     ]
    }
   ],
   "source": [
    "# Getting the optimal threshold\n",
    "\n",
    "optimal_threshold(stacking_clf, X_test) "
   ]
  },
  {
   "cell_type": "code",
   "execution_count": 729,
   "metadata": {},
   "outputs": [],
   "source": [
    "threshold = 0.499\n",
    "stacking_prob = stacking_clf.predict_proba(X_test)\n",
    "stacking_prob = pd.DataFrame(stacking_prob)[1]\n",
    "stacking_pred = [1 if x >= threshold else 0 for x in stacking_prob] "
   ]
  },
  {
   "cell_type": "code",
   "execution_count": 730,
   "metadata": {},
   "outputs": [
    {
     "name": "stdout",
     "output_type": "stream",
     "text": [
      "[[165  10]\n",
      " [ 36  84]]                precision    recall  f1-score   support\n",
      "\n",
      "           0       0.82      0.94      0.88       175\n",
      "           1       0.89      0.70      0.79       120\n",
      "\n",
      "    accuracy                           0.84       295\n",
      "   macro avg       0.86      0.82      0.83       295\n",
      "weighted avg       0.85      0.84      0.84       295\n",
      "\n"
     ]
    }
   ],
   "source": [
    "classification_report_ensemble(stacking_pred) "
   ]
  },
  {
   "cell_type": "code",
   "execution_count": 731,
   "metadata": {},
   "outputs": [],
   "source": [
    "# Creating the submission file\n",
    "stacking_prob = stacking_clf.predict_proba(test)\n",
    "stacking_prob = pd.DataFrame(stacking_prob)[1]\n",
    "stacking_pred = [1 if x >= threshold else 0 for x in stacking_prob] \n",
    "create_submission('stacking_pred', stacking_pred) "
   ]
  },
  {
   "cell_type": "markdown",
   "metadata": {},
   "source": [
    "This gave us a score of 0.75837 in the competition, which isn't an improvement over our best model."
   ]
  },
  {
   "cell_type": "markdown",
   "metadata": {},
   "source": [
    "The model that performed the best was the manual stacking using Logistic Regression, which gave us a 0.7799 score in the competition making it into the first 25% of the ranking."
   ]
  }
 ],
 "metadata": {
  "kernelspec": {
   "display_name": "Python 3",
   "language": "python",
   "name": "python3"
  },
  "language_info": {
   "codemirror_mode": {
    "name": "ipython",
    "version": 3
   },
   "file_extension": ".py",
   "mimetype": "text/x-python",
   "name": "python",
   "nbconvert_exporter": "python",
   "pygments_lexer": "ipython3",
   "version": "3.7.6"
  }
 },
 "nbformat": 4,
 "nbformat_minor": 4
}
