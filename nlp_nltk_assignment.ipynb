{
 "cells": [
  {
   "cell_type": "markdown",
   "metadata": {},
   "source": [
    "# Practica 4: Extraccion de Datos (PLN)\n",
    "\n",
    "Autor: Jorge Marcos Martos"
   ]
  },
  {
   "cell_type": "code",
   "execution_count": 1,
   "metadata": {},
   "outputs": [],
   "source": [
    "import nltk\n",
    "import re\n",
    "from nltk.corpus import cess_esp"
   ]
  },
  {
   "cell_type": "markdown",
   "metadata": {},
   "source": [
    "## 1. Creacion del Corpus y Entrenamiento de Tagger en Español\n",
    "\n",
    "Creamos varios corpus para ver como nuestras funciones se comportan en diferentes casos, para tal proposito creamos ``document`` que contiene pedidos con ingredientes, ``document1`` que solo contiene un pedido y ademas sin especificar ingredientes, y ``document3`` el cual combina pedidos con ingredientes y uno sin ingredientes."
   ]
  },
  {
   "cell_type": "code",
   "execution_count": 2,
   "metadata": {},
   "outputs": [],
   "source": [
    "document = \"Hola, buenas tardes, quisiera un bocadillo de jamon y queso. Necesitamos 20 tartas de vainilla, ahora, es que tenemos cumpleaños hoy. Hola, si, quisieramos 8 shawarmas de pollo para esta noche. Hoy me pasare por el restaurante, tenedme listo los 2 bocadillos de tortilla que pido siempre, gracias. Hola, quisiera pedir 5 perritos calientes con mostaza para esta noche. Seria posible encargar 20 tartas de chocolate hoy?\"\n",
    "document1 = 'Hola, quiero un perrito caliente y ya está'\n",
    "document3 = document + ' ' + document1"
   ]
  },
  {
   "cell_type": "markdown",
   "metadata": {},
   "source": [
    "Importamos el corpus CESS del español, que es una colección de textos anotados"
   ]
  },
  {
   "cell_type": "code",
   "execution_count": 3,
   "metadata": {},
   "outputs": [
    {
     "name": "stdout",
     "output_type": "stream",
     "text": [
      "[[('El', 'da0ms0'), ('grupo', 'ncms000'), ('estatal', 'aq0cs0'), ('Electricité_de_France', 'np00000'), ('-Fpa-', 'Fpa'), ('EDF', 'np00000'), ('-Fpt-', 'Fpt'), ('anunció', 'vmis3s0'), ('hoy', 'rg'), (',', 'Fc'), ('jueves', 'W'), (',', 'Fc'), ('la', 'da0fs0'), ('compra', 'ncfs000'), ('del', 'spcms'), ('51_por_ciento', 'Zp'), ('de', 'sps00'), ('la', 'da0fs0'), ('empresa', 'ncfs000'), ('mexicana', 'aq0fs0'), ('Electricidad_Águila_de_Altamira', 'np00000'), ('-Fpa-', 'Fpa'), ('EAA', 'np00000'), ('-Fpt-', 'Fpt'), (',', 'Fc'), ('creada', 'aq0fsp'), ('por', 'sps00'), ('el', 'da0ms0'), ('japonés', 'aq0ms0'), ('Mitsubishi_Corporation', 'np00000'), ('para', 'sps00'), ('poner_en_marcha', 'vmn0000'), ('una', 'di0fs0'), ('central', 'ncfs000'), ('de', 'sps00'), ('gas', 'ncms000'), ('de', 'sps00'), ('495', 'Z'), ('megavatios', 'ncmp000'), ('.', 'Fp')], [('Una', 'di0fs0'), ('portavoz', 'nccs000'), ('de', 'sps00'), ('EDF', 'np00000'), ('explicó', 'vmis3s0'), ('a', 'sps00'), ('EFE', 'np00000'), ('que', 'cs'), ('el', 'da0ms0'), ('proyecto', 'ncms000'), ('para', 'sps00'), ('la', 'da0fs0'), ('construcción', 'ncfs000'), ('de', 'sps00'), ('Altamira_2', 'np00000'), (',', 'Fc'), ('al', 'spcms'), ('norte', 'ncms000'), ('de', 'sps00'), ('Tampico', 'np00000'), (',', 'Fc'), ('prevé', 'vmm02s0'), ('la', 'da0fs0'), ('utilización', 'ncfs000'), ('de', 'sps00'), ('gas', 'ncms000'), ('natural', 'aq0cs0'), ('como', 'cs'), ('combustible', 'ncms000'), ('principal', 'aq0cs0'), ('en', 'sps00'), ('una', 'di0fs0'), ('central', 'ncfs000'), ('de', 'sps00'), ('ciclo', 'ncms000'), ('combinado', 'aq0msp'), ('que', 'pr0cn000'), ('debe', 'vmip3s0'), ('empezar', 'vmn0000'), ('a', 'sps00'), ('funcionar', 'vmn0000'), ('en', 'sps00'), ('mayo_del_2002', 'W'), ('.', 'Fp')], ...]\n"
     ]
    }
   ],
   "source": [
    "sents = cess_esp.tagged_sents()\n",
    "# comprobamos la carga y la comentamos para que no repercuta en el remdimiento\n",
    "print (sents) "
   ]
  },
  {
   "cell_type": "markdown",
   "metadata": {},
   "source": [
    "Creamos un conjunto de entrenamiento y otro de prueba"
   ]
  },
  {
   "cell_type": "code",
   "execution_count": 4,
   "metadata": {},
   "outputs": [
    {
     "name": "stdout",
     "output_type": "stream",
     "text": [
      "5427\n",
      "603\n"
     ]
    }
   ],
   "source": [
    "training = []\n",
    "test = []\n",
    "for i in range(len(sents)):\n",
    "    if i % 10:\n",
    "        training.append(sents[i])\n",
    "    else:\n",
    "        test.append(sents[i])\n",
    "\n",
    "#Comprobemos el tamano de cada uno de los set creados\n",
    "print(len(training)) \n",
    "print(len(test))"
   ]
  },
  {
   "cell_type": "markdown",
   "metadata": {},
   "source": [
    "Creamos un analizador morfologico usando el ``HiddenMarkovModelTagger`` de la libreria ``nltk`` que es el que mejor resultado da:"
   ]
  },
  {
   "cell_type": "code",
   "execution_count": 5,
   "metadata": {},
   "outputs": [
    {
     "name": "stdout",
     "output_type": "stream",
     "text": [
      "Acierto con HMMs: 89.88905831011094\n"
     ]
    }
   ],
   "source": [
    "from nltk.tag.hmm import HiddenMarkovModelTagger\n",
    "\n",
    "hmm_tagger = HiddenMarkovModelTagger.train(training)\n",
    "\n",
    "print ('Acierto con HMMs:', hmm_tagger.evaluate(test)*100)"
   ]
  },
  {
   "cell_type": "markdown",
   "metadata": {},
   "source": [
    "## 2. Procesamiento de Pedidos\n",
    "\n",
    "Primero creamos una gramatica chunk que nos permita identificar la parte del pedido que se refiere a la comida, dividiendo el pedido entre 'Cantidad', 'Comida' e 'Ingredientes'. Esta gramatica chunk tendra en cuenta los taggs entrenados anteriormente usando el corpus CESS en espanol.\n",
    "\n",
    "Una vez tengamos la gramatica chunk podremos crear nuestro propio parser, que ademas de parsear sera capaz de identificar cantidades, comidas e ingredientes."
   ]
  },
  {
   "cell_type": "code",
   "execution_count": 8,
   "metadata": {},
   "outputs": [],
   "source": [
    "# Gramatica del chunk que nos permitira separar la informacion en cantidades, comidas e ingredientes\n",
    "chunk_grammar = chunk_grammar = \"\"\"Comida: {<Z|di.*>+<nc.*>+<aq.*>?}\n",
    "                }<Z|di.*>+{\n",
    "                Cantidad: {<Z|di.*>+}\n",
    "                Ingredientes: {<sp.*><n.*><cc>?<n.*>?}\n",
    "                }<sp.*>+<cc>?{\"\"\" \n",
    "    \n",
    "# Creamos el parser usando nuestra gramatica chunk y el RegexpParser del nltk\n",
    "regex_parser = nltk.RegexpParser(chunk_grammar)"
   ]
  },
  {
   "cell_type": "markdown",
   "metadata": {},
   "source": [
    "Ahora crearemos diferentes funciones para el procesamiento de los pedidos."
   ]
  },
  {
   "cell_type": "code",
   "execution_count": 9,
   "metadata": {},
   "outputs": [],
   "source": [
    "from nltk import Tree\n",
    "\n",
    "def conversion(tree):\n",
    "    '''Esta funcion es capaz de extraer diccionarios de un arbol resultante de un texto parseado'''\n",
    "    dlist = [] # Lista que incluira los diccionarios\n",
    "    d = dict() # Diccionarios creados con las categorias creadas con nuestra gramatica chunk\n",
    "    for item in tree:\n",
    "        if isinstance(item, Tree): # Si tenemos un arbol creamos un diccionario que contenga las hojas\n",
    "            d[item.label()] = ' '.join([l[0] for l in item.leaves()])\n",
    "        else:\n",
    "            dlist.append(d) if len(d)>0 else None # Cuando acabamos devolvemos el diccionario\n",
    "            d = dict()\n",
    "    dlist.append(d) if len(d)>0 else None # anadimos los diccionarios en la lista hasta el final\n",
    "    return dlist"
   ]
  },
  {
   "cell_type": "code",
   "execution_count": 113,
   "metadata": {},
   "outputs": [],
   "source": [
    "def process_order(document, parser):\n",
    "    '''Esta funcion acepta un parseador predefinido y una cadena, para despues procesarla, dividiendo la cadena \n",
    "    en diferentes pedidos y clasificar las partes de cada pedido para sacar cantidades, comidas e ingredientes'''\n",
    "        \n",
    "    # Parseamos nuestro texto usando nuestro regex_parser\n",
    "    parsed_text = [parser.parse(hmm_tagger.tag(nltk.word_tokenize(sent))) for sent in nltk.sent_tokenize(document)]\n",
    "\n",
    "    \n",
    "    # Este bucle for introduce los diccionarios en una lista\n",
    "    info = []\n",
    "    for tree in parsed_text:\n",
    "        info.append(conversion(tree)) \n",
    "        \n",
    "    # Este bucle for une los diccionario de comida y cantidad con el de ingredientes, y desecha el duplicado ingredientes\n",
    "    for i in range(len(info)):\n",
    "    # Los ingredientes aparecen en una diccionario diferente por lo que este 'if' maneja la excepcion de que no haya ingredientes\n",
    "        if len(info[i]) > 1:\n",
    "            info[i][0].update(info[i][1])\n",
    "            info[i].pop()\n",
    "        \n",
    "    # Este bucle for desempaqueta los diccionarios de dentro de las listas.    \n",
    "    list_dictionaries = []\n",
    "    for i in range(len(info)):\n",
    "        # Desempaquetamos el diccionario\n",
    "        list_dictionaries.append(info[i][0])\n",
    "    return list_dictionaries"
   ]
  },
  {
   "cell_type": "markdown",
   "metadata": {},
   "source": [
    "Comprobemos si funciona en todos los casos:"
   ]
  },
  {
   "cell_type": "code",
   "execution_count": 88,
   "metadata": {},
   "outputs": [
    {
     "data": {
      "text/plain": [
       "[{'Cantidad': 'un', 'Comida': 'perrito caliente'}]"
      ]
     },
     "execution_count": 88,
     "metadata": {},
     "output_type": "execute_result"
    }
   ],
   "source": [
    "process_order(document1, regex_parser)"
   ]
  },
  {
   "cell_type": "code",
   "execution_count": 89,
   "metadata": {},
   "outputs": [
    {
     "data": {
      "text/plain": [
       "[{'Cantidad': 'un', 'Comida': 'bocadillo', 'Ingredientes': 'jamon y queso'},\n",
       " {'Cantidad': '20', 'Comida': 'tartas', 'Ingredientes': 'vainilla'},\n",
       " {'Cantidad': '8', 'Comida': 'shawarmas', 'Ingredientes': 'pollo'},\n",
       " {'Cantidad': '2', 'Comida': 'bocadillos', 'Ingredientes': 'tortilla'},\n",
       " {'Cantidad': '5', 'Comida': 'perritos calientes', 'Ingredientes': 'mostaza'},\n",
       " {'Cantidad': '20', 'Comida': 'tartas', 'Ingredientes': 'chocolate'},\n",
       " {'Cantidad': 'un', 'Comida': 'perrito caliente'}]"
      ]
     },
     "execution_count": 89,
     "metadata": {},
     "output_type": "execute_result"
    }
   ],
   "source": [
    "process_order(document3, regex_parser)"
   ]
  },
  {
   "cell_type": "code",
   "execution_count": 90,
   "metadata": {},
   "outputs": [],
   "source": [
    "def process_iob_tags(document, parser):\n",
    "    '''Esta funcion acepta un parseador predefinido y una cadena, para despues procesarla, dividiendo \n",
    "    la cadena en diferentes pedidos y clasificar las partes de cada pedido usando etiquetas iob'''\n",
    "        \n",
    "    # Parseamos nuestro texto usando nuestro regex_parser\n",
    "    parsed_text = [parser.parse(hmm_tagger.tag(nltk.word_tokenize(sent))) for sent in nltk.sent_tokenize(document)]\n",
    "\n",
    "    \n",
    "    # Este bucle for introduce los diccionarios en una lista\n",
    "    for parsed_sent in parsed_text:\n",
    "        list_of_lists = []\n",
    "        for i in range(len(parsed_text)):\n",
    "            # Filtramos el arbol padre S\n",
    "            for j in parsed_text[i].subtrees(filter = lambda x: x.label() == 'S'):\n",
    "                # Obtenemos las etiquetas\n",
    "                iob_tags = nltk.tree2conlltags(j)\n",
    "    \n",
    "                words_tagged = []\n",
    "    \n",
    "                for iob in iob_tags: \n",
    "                    words_tagged.append(iob)\n",
    "            list_of_lists.append(words_tagged)\n",
    "            \n",
    "    if len([sent for sent in nltk.sent_tokenize(document)]) == 1:\n",
    "        return list_of_lists[0]\n",
    "    return list_of_lists"
   ]
  },
  {
   "cell_type": "code",
   "execution_count": 91,
   "metadata": {},
   "outputs": [
    {
     "data": {
      "text/plain": [
       "[('Hola', 'np0000p', 'O'),\n",
       " (',', 'Fc', 'O'),\n",
       " ('quiero', 'vmis3s0', 'O'),\n",
       " ('un', 'di0ms0', 'B-Cantidad'),\n",
       " ('perrito', 'ncms000', 'B-Comida'),\n",
       " ('caliente', 'aq0cs0', 'I-Comida'),\n",
       " ('y', 'cc', 'O'),\n",
       " ('ya', 'rg', 'O'),\n",
       " ('está', 'vmip3s0', 'O')]"
      ]
     },
     "execution_count": 91,
     "metadata": {},
     "output_type": "execute_result"
    }
   ],
   "source": [
    "process_iob_tags(document1, regex_parser)"
   ]
  },
  {
   "cell_type": "code",
   "execution_count": 92,
   "metadata": {},
   "outputs": [
    {
     "data": {
      "text/plain": [
       "[[('Hola', 'np0000p', 'O'),\n",
       "  (',', 'Fc', 'O'),\n",
       "  ('buenas', 'aq0fp0', 'O'),\n",
       "  ('tardes', 'ncfp000', 'O'),\n",
       "  (',', 'Fc', 'O'),\n",
       "  ('quisiera', 'vmis3s0', 'O'),\n",
       "  ('un', 'di0ms0', 'B-Cantidad'),\n",
       "  ('bocadillo', 'ncms000', 'B-Comida'),\n",
       "  ('de', 'sps00', 'O'),\n",
       "  ('jamon', 'np0000l', 'B-Ingredientes'),\n",
       "  ('y', 'cc', 'I-Ingredientes'),\n",
       "  ('queso', 'np0000p', 'I-Ingredientes'),\n",
       "  ('.', 'Fp', 'O')],\n",
       " [('Necesitamos', 'da0mp0', 'O'),\n",
       "  ('20', 'Z', 'B-Cantidad'),\n",
       "  ('tartas', 'ncmp000', 'B-Comida'),\n",
       "  ('de', 'sps00', 'O'),\n",
       "  ('vainilla', 'np0000l', 'B-Ingredientes'),\n",
       "  (',', 'Fc', 'O'),\n",
       "  ('ahora', 'rg', 'O'),\n",
       "  (',', 'Fc', 'O'),\n",
       "  ('es', 'vsip3s0', 'O'),\n",
       "  ('que', 'cs', 'O'),\n",
       "  ('tenemos', 'sn.e-SUJ', 'O'),\n",
       "  ('cumpleaños', 'vmis3s0', 'O'),\n",
       "  ('hoy', 'rg', 'O'),\n",
       "  ('.', 'Fp', 'O')],\n",
       " [('Hola', 'np0000p', 'O'),\n",
       "  (',', 'Fc', 'O'),\n",
       "  ('si', 'cs', 'O'),\n",
       "  (',', 'Fc', 'O'),\n",
       "  ('quisieramos', 'sps00', 'O'),\n",
       "  ('8', 'Z', 'B-Cantidad'),\n",
       "  ('shawarmas', 'ncmp000', 'B-Comida'),\n",
       "  ('de', 'sps00', 'O'),\n",
       "  ('pollo', 'ncms000', 'B-Ingredientes'),\n",
       "  ('para', 'sps00', 'O'),\n",
       "  ('esta', 'dd0fs0', 'O'),\n",
       "  ('noche', 'ncfs000', 'O'),\n",
       "  ('.', 'Fp', 'O')],\n",
       " [('Hoy', 'rg', 'O'),\n",
       "  ('me', 'pp1cs000', 'O'),\n",
       "  ('pasare', 'vmip3s0', 'O'),\n",
       "  ('por', 'sps00', 'O'),\n",
       "  ('el', 'da0ms0', 'O'),\n",
       "  ('restaurante', 'ncms000', 'O'),\n",
       "  (',', 'Fc', 'O'),\n",
       "  ('tenedme', 'vmis3s0', 'O'),\n",
       "  ('listo', 'cs', 'O'),\n",
       "  ('los', 'da0mp0', 'O'),\n",
       "  ('2', 'Z', 'B-Cantidad'),\n",
       "  ('bocadillos', 'ncmp000', 'B-Comida'),\n",
       "  ('de', 'sps00', 'O'),\n",
       "  ('tortilla', 'ncfs000', 'B-Ingredientes'),\n",
       "  ('que', 'pr0cn000', 'O'),\n",
       "  ('pido', 'vmip3s0', 'O'),\n",
       "  ('siempre', 'rg', 'O'),\n",
       "  (',', 'Fc', 'O'),\n",
       "  ('gracias', 'ncfp000', 'O'),\n",
       "  ('.', 'Fp', 'O')],\n",
       " [('Hola', 'np0000p', 'O'),\n",
       "  (',', 'Fc', 'O'),\n",
       "  ('quisiera', 'np0000p', 'O'),\n",
       "  ('pedir', 'Fpa', 'O'),\n",
       "  ('5', 'Z', 'B-Cantidad'),\n",
       "  ('perritos', 'ncmp000', 'B-Comida'),\n",
       "  ('calientes', 'aq0mpp', 'I-Comida'),\n",
       "  ('con', 'sps00', 'O'),\n",
       "  ('mostaza', 'ncfs000', 'B-Ingredientes'),\n",
       "  ('para', 'sps00', 'O'),\n",
       "  ('esta', 'dd0fs0', 'O'),\n",
       "  ('noche', 'ncfs000', 'O'),\n",
       "  ('.', 'Fp', 'O')],\n",
       " [('Seria', 'rg', 'O'),\n",
       "  ('posible', 'aq0cs0', 'O'),\n",
       "  ('encargar', 'Fp', 'O'),\n",
       "  ('20', 'Z', 'B-Cantidad'),\n",
       "  ('tartas', 'ncmp000', 'B-Comida'),\n",
       "  ('de', 'sps00', 'O'),\n",
       "  ('chocolate', 'ncms000', 'B-Ingredientes'),\n",
       "  ('hoy', 'rg', 'O'),\n",
       "  ('?', 'Fit', 'O')],\n",
       " [('Hola', 'np0000p', 'O'),\n",
       "  (',', 'Fc', 'O'),\n",
       "  ('quiero', 'vmis3s0', 'O'),\n",
       "  ('un', 'di0ms0', 'B-Cantidad'),\n",
       "  ('perrito', 'ncms000', 'B-Comida'),\n",
       "  ('caliente', 'aq0cs0', 'I-Comida'),\n",
       "  ('y', 'cc', 'O'),\n",
       "  ('ya', 'rg', 'O'),\n",
       "  ('está', 'vmip3s0', 'O')]]"
      ]
     },
     "execution_count": 92,
     "metadata": {},
     "output_type": "execute_result"
    }
   ],
   "source": [
    "process_iob_tags(document3, regex_parser)"
   ]
  },
  {
   "cell_type": "code",
   "execution_count": 116,
   "metadata": {},
   "outputs": [],
   "source": [
    "def create_trees(document, parser):\n",
    "    '''Esta funcion crea arboles parseados para su posterior analisis, la funcion acepta una cadena que dividira\n",
    "    en diferentes pedidos, ademas de un parseador predefinido'''\n",
    "    sentences = [sent for sent in nltk.sent_tokenize(document)]\n",
    "\n",
    "    chunks = []\n",
    "\n",
    "    for sentence in sentences:\n",
    "        sentence_tokens = nltk.word_tokenize(sentence)\n",
    "        tagged_sentence = hmm_tagger.tag(sentence_tokens)\n",
    "        tree = parser.parse(tagged_sentence)\n",
    "        # añadimos el árbol directamente ya que los taggers entrenan con árboles con los chunks etiquetados\n",
    "        chunks.append(tree)\n",
    "    if len([sent for sent in nltk.sent_tokenize(document)]) == 1:\n",
    "        # Hacemos que devuelva el arbol directamente si se trata solo de un pedido\n",
    "        return chunks[0]\n",
    "    return chunks"
   ]
  },
  {
   "cell_type": "code",
   "execution_count": 94,
   "metadata": {},
   "outputs": [
    {
     "data": {
      "text/plain": [
       "[Tree('S', [('Hola', 'np0000p'), (',', 'Fc'), ('buenas', 'aq0fp0'), ('tardes', 'ncfp000'), (',', 'Fc'), ('quisiera', 'vmis3s0'), Tree('Cantidad', [('un', 'di0ms0')]), Tree('Comida', [('bocadillo', 'ncms000')]), ('de', 'sps00'), Tree('Ingredientes', [('jamon', 'np0000l'), ('y', 'cc'), ('queso', 'np0000p')]), ('.', 'Fp')]),\n",
       " Tree('S', [('Necesitamos', 'da0mp0'), Tree('Cantidad', [('20', 'Z')]), Tree('Comida', [('tartas', 'ncmp000')]), ('de', 'sps00'), Tree('Ingredientes', [('vainilla', 'np0000l')]), (',', 'Fc'), ('ahora', 'rg'), (',', 'Fc'), ('es', 'vsip3s0'), ('que', 'cs'), ('tenemos', 'sn.e-SUJ'), ('cumpleaños', 'vmis3s0'), ('hoy', 'rg'), ('.', 'Fp')]),\n",
       " Tree('S', [('Hola', 'np0000p'), (',', 'Fc'), ('si', 'cs'), (',', 'Fc'), ('quisieramos', 'sps00'), Tree('Cantidad', [('8', 'Z')]), Tree('Comida', [('shawarmas', 'ncmp000')]), ('de', 'sps00'), Tree('Ingredientes', [('pollo', 'ncms000')]), ('para', 'sps00'), ('esta', 'dd0fs0'), ('noche', 'ncfs000'), ('.', 'Fp')]),\n",
       " Tree('S', [('Hoy', 'rg'), ('me', 'pp1cs000'), ('pasare', 'vmip3s0'), ('por', 'sps00'), ('el', 'da0ms0'), ('restaurante', 'ncms000'), (',', 'Fc'), ('tenedme', 'vmis3s0'), ('listo', 'cs'), ('los', 'da0mp0'), Tree('Cantidad', [('2', 'Z')]), Tree('Comida', [('bocadillos', 'ncmp000')]), ('de', 'sps00'), Tree('Ingredientes', [('tortilla', 'ncfs000')]), ('que', 'pr0cn000'), ('pido', 'vmip3s0'), ('siempre', 'rg'), (',', 'Fc'), ('gracias', 'ncfp000'), ('.', 'Fp')]),\n",
       " Tree('S', [('Hola', 'np0000p'), (',', 'Fc'), ('quisiera', 'np0000p'), ('pedir', 'Fpa'), Tree('Cantidad', [('5', 'Z')]), Tree('Comida', [('perritos', 'ncmp000'), ('calientes', 'aq0mpp')]), ('con', 'sps00'), Tree('Ingredientes', [('mostaza', 'ncfs000')]), ('para', 'sps00'), ('esta', 'dd0fs0'), ('noche', 'ncfs000'), ('.', 'Fp')]),\n",
       " Tree('S', [('Seria', 'rg'), ('posible', 'aq0cs0'), ('encargar', 'Fp'), Tree('Cantidad', [('20', 'Z')]), Tree('Comida', [('tartas', 'ncmp000')]), ('de', 'sps00'), Tree('Ingredientes', [('chocolate', 'ncms000')]), ('hoy', 'rg'), ('?', 'Fit')]),\n",
       " Tree('S', [('Hola', 'np0000p'), (',', 'Fc'), ('quiero', 'vmis3s0'), Tree('Cantidad', [('un', 'di0ms0')]), Tree('Comida', [('perrito', 'ncms000'), ('caliente', 'aq0cs0')]), ('y', 'cc'), ('ya', 'rg'), ('está', 'vmip3s0')])]"
      ]
     },
     "execution_count": 94,
     "metadata": {},
     "output_type": "execute_result"
    }
   ],
   "source": [
    "create_trees(document3, regex_parser)"
   ]
  },
  {
   "cell_type": "markdown",
   "metadata": {},
   "source": [
    "Comprobemos como funciona:"
   ]
  },
  {
   "cell_type": "code",
   "execution_count": 95,
   "metadata": {},
   "outputs": [],
   "source": [
    "trees = create_trees(document3, regex_parser)"
   ]
  },
  {
   "cell_type": "code",
   "execution_count": 96,
   "metadata": {},
   "outputs": [
    {
     "data": {
      "image/png": "[encoded data removed]",
      "text/plain": [
       "Tree('S', [('Hola', 'np0000p'), (',', 'Fc'), ('buenas', 'aq0fp0'), ('tardes', 'ncfp000'), (',', 'Fc'), ('quisiera', 'vmis3s0'), Tree('Cantidad', [('un', 'di0ms0')]), Tree('Comida', [('bocadillo', 'ncms000')]), ('de', 'sps00'), Tree('Ingredientes', [('jamon', 'np0000l'), ('y', 'cc'), ('queso', 'np0000p')]), ('.', 'Fp')])"
      ]
     },
     "execution_count": 96,
     "metadata": {},
     "output_type": "execute_result"
    }
   ],
   "source": [
    "trees[0]"
   ]
  },
  {
   "cell_type": "code",
   "execution_count": 97,
   "metadata": {},
   "outputs": [
    {
     "data": {
      "image/png": "[encoded data removed]",
      "text/plain": [
       "Tree('S', [('Necesitamos', 'da0mp0'), Tree('Cantidad', [('20', 'Z')]), Tree('Comida', [('tartas', 'ncmp000')]), ('de', 'sps00'), Tree('Ingredientes', [('vainilla', 'np0000l')]), (',', 'Fc'), ('ahora', 'rg'), (',', 'Fc'), ('es', 'vsip3s0'), ('que', 'cs'), ('tenemos', 'sn.e-SUJ'), ('cumpleaños', 'vmis3s0'), ('hoy', 'rg'), ('.', 'Fp')])"
      ]
     },
     "execution_count": 97,
     "metadata": {},
     "output_type": "execute_result"
    }
   ],
   "source": [
    "trees[1]"
   ]
  },
  {
   "cell_type": "code",
   "execution_count": 20,
   "metadata": {},
   "outputs": [
    {
     "data": {
      "image/png": "[encoded data removed]",
      "text/plain": [
       "Tree('S', [('Hola', 'np0000p'), (',', 'Fc'), ('quiero', 'vmis3s0'), Tree('Cantidad', [('un', 'di0ms0')]), Tree('Comida', [('perrito', 'ncms000'), ('caliente', 'aq0cs0')]), ('y', 'cc'), ('ya', 'rg'), ('está', 'vmip3s0')])"
      ]
     },
     "execution_count": 20,
     "metadata": {},
     "output_type": "execute_result"
    }
   ],
   "source": [
    "trees[6]"
   ]
  },
  {
   "cell_type": "markdown",
   "metadata": {},
   "source": [
    "## 3. Entrenamiento de Modelos para la Extraccion de Datos.\n",
    "\n",
    "A continuacion crearemos un corpus de entrenamiento y otro de test para asi poder dilucidar que algoritmo es el que mejor nos funciona para extraer informacion de los pedidos."
   ]
  },
  {
   "cell_type": "markdown",
   "metadata": {},
   "source": [
    "El *IOB Accuracy* nos da cuantos de los tokens han sido correctamente asignados, mientras que *Precision* nos da cuantos de los chunks han sido correctamente asignados en referencia a esos tokens. \n",
    "\n",
    "El criterio para la seleccion del modelo deberia ser aquel modelo que presente valores altos tanto en *IOB Accuracy* como en *Precision*."
   ]
  },
  {
   "cell_type": "code",
   "execution_count": 21,
   "metadata": {},
   "outputs": [],
   "source": [
    "training_corpus = document3\n",
    "test_corpus = \"Hola, quisiera 3 paellas de marisco, llegaremos a la tarde. Que tal todo? Vamos a comer hoy alli, tened preparadas 5 fideuas. Hoy venimos con hambre, tened preparadas 9 crepes con chocolate y nata. Quiero 3 cervezas de trigo. Dame 3 risottos de setas. 2 ensaladas de pasta mas\""
   ]
  },
  {
   "cell_type": "code",
   "execution_count": 98,
   "metadata": {},
   "outputs": [],
   "source": [
    "parsed_training_corpus = create_trees(training_corpus, regex_parser)\n",
    "parsed_test_corpus = create_trees(test_corpus, regex_parser)"
   ]
  },
  {
   "cell_type": "markdown",
   "metadata": {},
   "source": [
    "### 3.1. Modelo Unigram"
   ]
  },
  {
   "cell_type": "code",
   "execution_count": 78,
   "metadata": {},
   "outputs": [],
   "source": [
    "class UnigramChunker(nltk.ChunkParserI):\n",
    "    def __init__(self, train_sents):\n",
    "        train_data = [[(t,c) for w,t,c in nltk.chunk.tree2conlltags(sent)] for sent in train_sents]\n",
    "        self.tagger = nltk.UnigramTagger(train_data)\n",
    "\n",
    "    def parse(self, sentence):\n",
    "        pos_tags = [pos for (words, pos) in sentence]\n",
    "        tagged_pos_tags = self.tagger.tag(pos_tags)\n",
    "        chunktags = [chunktag for (pos, chunktag) in tagged_pos_tags]\n",
    "        conlltags =[(word, pos, chunktag) for ((word, pos), chunktag) in zip(sentence, chunktags)]\n",
    "        return nltk.chunk.conlltags2tree(conlltags)"
   ]
  },
  {
   "cell_type": "code",
   "execution_count": 79,
   "metadata": {},
   "outputs": [
    {
     "name": "stdout",
     "output_type": "stream",
     "text": [
      "ChunkParse score:\n",
      "    IOB Accuracy:  88.1%%\n",
      "    Precision:     80.0%%\n",
      "    Recall:        70.6%%\n",
      "    F-Measure:     75.0%%\n"
     ]
    }
   ],
   "source": [
    "unigram_chunker = UnigramChunker(parsed_training_corpus)\n",
    "print(unigram_chunker.evaluate(parsed_test_corpus)) "
   ]
  },
  {
   "cell_type": "markdown",
   "metadata": {},
   "source": [
    "### 3.2. Modelo Bigram"
   ]
  },
  {
   "cell_type": "code",
   "execution_count": 104,
   "metadata": {},
   "outputs": [],
   "source": [
    "class BigramChunker(nltk.ChunkParserI):\n",
    "    def __init__(self, train_sents):\n",
    "        train_data = [[(t,c) for w,t,c in nltk.chunk.tree2conlltags(sent)] for sent in train_sents]\n",
    "        self.tagger = nltk.BigramTagger(train_data)\n",
    "\n",
    "    def parse(self, sentence):\n",
    "        pos_tags = [pos for (words, pos) in sentence]\n",
    "        tagged_pos_tags = self.tagger.tag(pos_tags)\n",
    "        chunktags = [chunktag for (pos, chunktag) in tagged_pos_tags]\n",
    "        conlltags =[(word, pos, chunktag) for ((word, pos), chunktag) in zip(sentence, chunktags)]\n",
    "        return nltk.chunk.conlltags2tree(conlltags)"
   ]
  },
  {
   "cell_type": "code",
   "execution_count": 105,
   "metadata": {},
   "outputs": [
    {
     "name": "stdout",
     "output_type": "stream",
     "text": [
      "ChunkParse score:\n",
      "    IOB Accuracy:  83.1%%\n",
      "    Precision:    100.0%%\n",
      "    Recall:        52.9%%\n",
      "    F-Measure:     69.2%%\n"
     ]
    }
   ],
   "source": [
    "bigram_chunker = BigramChunker(parsed_training_corpus)\n",
    "print(bigram_chunker.evaluate(parsed_test_corpus)) "
   ]
  },
  {
   "cell_type": "markdown",
   "metadata": {},
   "source": [
    "En este caso, el modelo parece predecir todos los chunks perfectamente, hay que tener en cuenta que ha tanto el test set como el training set son muy pequenos por lo que estos resultados no son fiables."
   ]
  },
  {
   "cell_type": "markdown",
   "metadata": {},
   "source": [
    "### 3.3. Modelo Clasificador Maxent"
   ]
  },
  {
   "cell_type": "code",
   "execution_count": 57,
   "metadata": {},
   "outputs": [],
   "source": [
    "class ConsecutiveNPChunkTagger(nltk.TaggerI): \n",
    "\n",
    "    def __init__(self, train_sents):\n",
    "        train_set = []\n",
    "        for tagged_sent in train_sents:\n",
    "            untagged_sent = nltk.tag.untag(tagged_sent)\n",
    "            history = []\n",
    "            for i, (word, tag) in enumerate(tagged_sent):\n",
    "                featureset = npchunk_features(untagged_sent, i, history)\n",
    "                train_set.append( (featureset, tag) )\n",
    "                history.append(tag)\n",
    "        self.classifier = nltk.MaxentClassifier.train(\n",
    "            train_set, algorithm=None, trace=0)\n",
    "\n",
    "    def tag(self, sentence):\n",
    "        history = []\n",
    "        for i, word in enumerate(sentence):\n",
    "            featureset = npchunk_features(sentence, i, history)\n",
    "            tag = self.classifier.classify(featureset)\n",
    "            history.append(tag)\n",
    "        return zip(sentence, history)\n",
    "\n",
    "class ConsecutiveNPChunker(nltk.ChunkParserI): \n",
    "    def __init__(self, train_sents):\n",
    "        tagged_sents = [[((w,t),c) for (w,t,c) in\n",
    "                         nltk.chunk.tree2conlltags(sent)]\n",
    "                        for sent in train_sents]\n",
    "        self.tagger = ConsecutiveNPChunkTagger(tagged_sents)\n",
    "\n",
    "    def parse(self, sentence):\n",
    "        tagged_sents = self.tagger.tag(sentence)\n",
    "        conlltags = [(w,t,c) for ((w,t),c) in tagged_sents]\n",
    "        return nltk.chunk.conlltags2tree(conlltags)"
   ]
  },
  {
   "cell_type": "code",
   "execution_count": 120,
   "metadata": {},
   "outputs": [
    {
     "name": "stdout",
     "output_type": "stream",
     "text": [
      "ChunkParse score:\n",
      "    IOB Accuracy:  91.5%%\n",
      "    Precision:     92.9%%\n",
      "    Recall:        76.5%%\n",
      "    F-Measure:     83.9%%\n"
     ]
    }
   ],
   "source": [
    "def npchunk_features(sentence, i, history):\n",
    "    word, pos = sentence[i]\n",
    "    return {\"pos\": pos}\n",
    "maxent_chunker = ConsecutiveNPChunker(parsed_training_corpus)\n",
    "print(maxent_chunker.evaluate(parsed_test_corpus))"
   ]
  },
  {
   "cell_type": "markdown",
   "metadata": {},
   "source": [
    "El clasificador Maxent ha dado resultados muy buenos tanto en el indicador *IOB Accuracy* como en *Precision*.\n",
    "\n",
    "### 3.4. Modelo Clasificador Naive Bayes"
   ]
  },
  {
   "cell_type": "code",
   "execution_count": 61,
   "metadata": {},
   "outputs": [],
   "source": [
    "class NaiveBayesChunkTagger(nltk.TaggerI): \n",
    "\n",
    "    def __init__(self, train_sents):\n",
    "        train_set = []\n",
    "        for tagged_sent in train_sents:\n",
    "            untagged_sent = nltk.tag.untag(tagged_sent)\n",
    "            history = []\n",
    "            for i, (word, tag) in enumerate(tagged_sent):\n",
    "                featureset = npchunk_features(untagged_sent, i, history)\n",
    "                train_set.append( (featureset, tag) )\n",
    "                history.append(tag)\n",
    "        self.classifier = nltk.NaiveBayesClassifier.train(train_set)\n",
    "\n",
    "    def tag(self, sentence):\n",
    "        history = []\n",
    "        for i, word in enumerate(sentence):\n",
    "            featureset = npchunk_features(sentence, i, history)\n",
    "            tag = self.classifier.classify(featureset)\n",
    "            history.append(tag)\n",
    "        return zip(sentence, history)\n",
    "\n",
    "class NaiveBayesChunker(nltk.ChunkParserI): \n",
    "    def __init__(self, train_sents):\n",
    "        tagged_sents = [[((w,t),c) for (w,t,c) in\n",
    "                         nltk.chunk.tree2conlltags(sent)]\n",
    "                        for sent in train_sents]\n",
    "        self.tagger = NaiveBayesChunkTagger(tagged_sents)\n",
    "\n",
    "    def parse(self, sentence):\n",
    "        tagged_sents = self.tagger.tag(sentence)\n",
    "        conlltags = [(w,t,c) for ((w,t),c) in tagged_sents]\n",
    "        return nltk.chunk.conlltags2tree(conlltags)"
   ]
  },
  {
   "cell_type": "code",
   "execution_count": 122,
   "metadata": {},
   "outputs": [
    {
     "name": "stdout",
     "output_type": "stream",
     "text": [
      "ChunkParse score:\n",
      "    IOB Accuracy:  88.1%%\n",
      "    Precision:    100.0%%\n",
      "    Recall:        70.6%%\n",
      "    F-Measure:     82.8%%\n"
     ]
    }
   ],
   "source": [
    "def npchunk_features(sentence, i, history):\n",
    "    word, pos = sentence[i]\n",
    "    return {\"pos\": pos}\n",
    "naive_bayes_chunker = NaiveBayesChunker(parsed_training_corpus)\n",
    "print(naive_bayes_chunker.evaluate(parsed_test_corpus))"
   ]
  },
  {
   "cell_type": "markdown",
   "metadata": {},
   "source": [
    "El clasificador Naive Bayes tambien ha dado muy buenos resultados, con una *Precision* del 100% y con un *IOB Accuracy* del 88.1%."
   ]
  },
  {
   "cell_type": "markdown",
   "metadata": {},
   "source": [
    "## 4. Testeo de los Modelos Clasificadores Maxent y Naive Bayes\n",
    "\n",
    "Tras comprobar el rendimiento de los diferentes modelos, ahora testearemos los modelos que mejor han rendido."
   ]
  },
  {
   "cell_type": "code",
   "execution_count": 121,
   "metadata": {},
   "outputs": [],
   "source": [
    "# create_trees(document, parser)         # maxent_chunker\n",
    "# process_order(document, parser)        # naive_bayes_chunker\n",
    "# process_iob_tags(document, parser)"
   ]
  },
  {
   "cell_type": "markdown",
   "metadata": {},
   "source": [
    "### 4.1 Modelo Clasificador Maxent\n",
    "\n",
    "Probemos con diferentes ejemplos:"
   ]
  },
  {
   "cell_type": "code",
   "execution_count": 147,
   "metadata": {},
   "outputs": [
    {
     "data": {
      "image/png": "[encoded data removed]",
      "text/plain": [
       "Tree('S', [('Dame', 'da0mp0'), Tree('Cantidad', [('3', 'Z')]), Tree('Comida', [('shawarmas', 'ncmp000')]), ('de', 'sps00'), ('cordero', 'da0fs0')])"
      ]
     },
     "execution_count": 147,
     "metadata": {},
     "output_type": "execute_result"
    }
   ],
   "source": [
    "create_trees('Dame 3 shawarmas de cordero', maxent_chunker) "
   ]
  },
  {
   "cell_type": "code",
   "execution_count": 133,
   "metadata": {},
   "outputs": [
    {
     "data": {
      "image/png": "[encoded data removed]",
      "text/plain": [
       "Tree('S', [('Unos', 'di0mp0'), Tree('Comida', [('calamaritos', 'ncmp000')]), ('para', 'sps00'), ('esta', 'dd0fs0'), ('mesa', 'ncfs000'), (',', 'Fc'), ('camarero', 'i'), ('!', 'Fat')])"
      ]
     },
     "execution_count": 133,
     "metadata": {},
     "output_type": "execute_result"
    }
   ],
   "source": [
    "create_trees('Unos calamaritos para esta mesa, camarero!', maxent_chunker) "
   ]
  },
  {
   "cell_type": "code",
   "execution_count": 126,
   "metadata": {},
   "outputs": [
    {
     "data": {
      "image/png": "[encoded data removed]",
      "text/plain": [
       "Tree('S', [('Quiero', 'da0mp0'), Tree('Cantidad', [('3', 'Z')]), Tree('Comida', [('vinos', 'ncmp000')]), ('Rivera', 'aq0mp0'), ('del', 'spcms'), Tree('Ingredientes', [('Duero', 'ncms000')])])"
      ]
     },
     "execution_count": 126,
     "metadata": {},
     "output_type": "execute_result"
    }
   ],
   "source": [
    "create_trees('Quiero 3 vinos Rivera del Duero', maxent_chunker)"
   ]
  },
  {
   "cell_type": "code",
   "execution_count": 128,
   "metadata": {},
   "outputs": [
    {
     "data": {
      "image/png": "[encoded data removed]",
      "text/plain": [
       "Tree('S', [('Vamos', 'rg'), ('a', 'sps00'), ('querer', 'vmn0000'), Tree('Cantidad', [('2', 'Z')]), Tree('Comida', [('paellas', 'ncmp000'), ('valencianas', 'aq0mpp')]), ('para', 'sps00'), ('la', 'da0fs0'), ('familia', 'ncfs000'), ('entera', 'aq0fs0')])"
      ]
     },
     "execution_count": 128,
     "metadata": {},
     "output_type": "execute_result"
    }
   ],
   "source": [
    "create_trees('Vamos a querer 2 paellas valencianas para la familia entera', maxent_chunker)"
   ]
  },
  {
   "cell_type": "code",
   "execution_count": 148,
   "metadata": {},
   "outputs": [],
   "source": [
    "# Unamoslos en una cadena con los pedidos:\n",
    "document4 = 'Dame 3 shawarmas de cordero. Unos calamaritos para esta mesa, camarero! Quiero 3 vinos Rivera del Duero. Vamos a querer 2 paellas valencianas para la familia entera.'"
   ]
  },
  {
   "cell_type": "markdown",
   "metadata": {},
   "source": [
    "Ahora veamos las etiquetas IOB producidas por este modelo:"
   ]
  },
  {
   "cell_type": "code",
   "execution_count": 149,
   "metadata": {},
   "outputs": [
    {
     "data": {
      "text/plain": [
       "[[('Dame', 'da0mp0', 'O'),\n",
       "  ('3', 'Z', 'B-Cantidad'),\n",
       "  ('shawarmas', 'ncmp000', 'B-Comida'),\n",
       "  ('de', 'sps00', 'O'),\n",
       "  ('cordero', 'np0000l', 'B-Ingredientes'),\n",
       "  ('.', 'Fp', 'O')],\n",
       " [('Unos', 'di0mp0', 'O'),\n",
       "  ('calamaritos', 'ncmp000', 'B-Comida'),\n",
       "  ('para', 'sps00', 'O'),\n",
       "  ('esta', 'dd0fs0', 'O'),\n",
       "  ('mesa', 'ncfs000', 'O'),\n",
       "  (',', 'Fc', 'O'),\n",
       "  ('camarero', 'i', 'O'),\n",
       "  ('!', 'Fat', 'O')],\n",
       " [('Quiero', 'da0mp0', 'O'),\n",
       "  ('3', 'Z', 'B-Cantidad'),\n",
       "  ('vinos', 'ncmp000', 'B-Comida'),\n",
       "  ('Rivera', 'aq0mp0', 'O'),\n",
       "  ('del', 'spcms', 'O'),\n",
       "  ('Duero', 'ncms000', 'B-Ingredientes'),\n",
       "  ('.', 'Fp', 'O')],\n",
       " [('Vamos', 'rg', 'O'),\n",
       "  ('a', 'sps00', 'O'),\n",
       "  ('querer', 'vmn0000', 'O'),\n",
       "  ('2', 'Z', 'B-Cantidad'),\n",
       "  ('paellas', 'ncmp000', 'B-Comida'),\n",
       "  ('valencianas', 'aq0mpp', 'I-Comida'),\n",
       "  ('para', 'sps00', 'O'),\n",
       "  ('la', 'da0fs0', 'O'),\n",
       "  ('familia', 'ncfs000', 'O'),\n",
       "  ('entera', 'aq0fs0', 'O'),\n",
       "  ('.', 'Fp', 'O')]]"
      ]
     },
     "execution_count": 149,
     "metadata": {},
     "output_type": "execute_result"
    }
   ],
   "source": [
    "process_iob_tags(document4, maxent_chunker)"
   ]
  },
  {
   "cell_type": "markdown",
   "metadata": {},
   "source": [
    "Ahora procesemos cada uno de los pedidos para obtener los diccionarios con las cantidades, comidas e ingredientes:"
   ]
  },
  {
   "cell_type": "code",
   "execution_count": 150,
   "metadata": {},
   "outputs": [
    {
     "data": {
      "text/plain": [
       "[{'Cantidad': '3', 'Comida': 'shawarmas', 'Ingredientes': 'cordero'},\n",
       " {'Comida': 'calamaritos'},\n",
       " {'Cantidad': '3', 'Comida': 'vinos', 'Ingredientes': 'Duero'},\n",
       " {'Cantidad': '2', 'Comida': 'paellas valencianas'}]"
      ]
     },
     "execution_count": 150,
     "metadata": {},
     "output_type": "execute_result"
    }
   ],
   "source": [
    "process_order(document4, maxent_chunker)"
   ]
  },
  {
   "cell_type": "markdown",
   "metadata": {},
   "source": [
    "### 4.2 Modelo Clasificador Naive Bayes"
   ]
  },
  {
   "cell_type": "code",
   "execution_count": 146,
   "metadata": {},
   "outputs": [
    {
     "data": {
      "image/png": "[encoded data removed]",
      "text/plain": [
       "Tree('S', [('Dame', 'da0mp0'), Tree('Cantidad', [('3', 'Z')]), Tree('Comida', [('shawarmas', 'ncmp000')]), ('de', 'sps00'), ('cordero', 'da0fs0')])"
      ]
     },
     "execution_count": 146,
     "metadata": {},
     "output_type": "execute_result"
    }
   ],
   "source": [
    "create_trees('Dame 3 shawarmas de cordero', naive_bayes_chunker) "
   ]
  },
  {
   "cell_type": "code",
   "execution_count": 141,
   "metadata": {},
   "outputs": [
    {
     "data": {
      "image/png": "[encoded data removed]",
      "text/plain": [
       "Tree('S', [('Unos', 'di0mp0'), Tree('Comida', [('calamaritos', 'ncmp000')]), ('para', 'sps00'), ('esta', 'dd0fs0'), ('mesa', 'ncfs000'), (',', 'Fc'), ('camarero', 'i'), ('!', 'Fat')])"
      ]
     },
     "execution_count": 141,
     "metadata": {},
     "output_type": "execute_result"
    }
   ],
   "source": [
    "create_trees('Unos calamaritos para esta mesa, camarero!', naive_bayes_chunker) "
   ]
  },
  {
   "cell_type": "code",
   "execution_count": 142,
   "metadata": {},
   "outputs": [
    {
     "data": {
      "image/png": "[encoded data removed]",
      "text/plain": [
       "Tree('S', [('Quiero', 'da0mp0'), Tree('Cantidad', [('3', 'Z')]), Tree('Comida', [('vinos', 'ncmp000')]), ('Rivera', 'aq0mp0'), ('del', 'spcms'), ('Duero', 'ncms000')])"
      ]
     },
     "execution_count": 142,
     "metadata": {},
     "output_type": "execute_result"
    }
   ],
   "source": [
    "create_trees('Quiero 3 vinos Rivera del Duero', naive_bayes_chunker)"
   ]
  },
  {
   "cell_type": "code",
   "execution_count": 143,
   "metadata": {},
   "outputs": [
    {
     "data": {
      "image/png": "[encoded data removed]",
      "text/plain": [
       "Tree('S', [('Vamos', 'rg'), ('a', 'sps00'), ('querer', 'vmn0000'), Tree('Cantidad', [('2', 'Z')]), Tree('Comida', [('paellas', 'ncmp000')]), ('valencianas', 'aq0mpp'), ('para', 'sps00'), ('la', 'da0fs0'), ('familia', 'ncfs000'), ('entera', 'aq0fs0')])"
      ]
     },
     "execution_count": 143,
     "metadata": {},
     "output_type": "execute_result"
    }
   ],
   "source": [
    "create_trees('Vamos a querer 2 paellas valencianas para la familia entera', naive_bayes_chunker)"
   ]
  },
  {
   "cell_type": "code",
   "execution_count": 151,
   "metadata": {},
   "outputs": [
    {
     "data": {
      "text/plain": [
       "[[('Dame', 'da0mp0', 'O'),\n",
       "  ('3', 'Z', 'B-Cantidad'),\n",
       "  ('shawarmas', 'ncmp000', 'B-Comida'),\n",
       "  ('de', 'sps00', 'O'),\n",
       "  ('cordero', 'np0000l', 'B-Ingredientes'),\n",
       "  ('.', 'Fp', 'O')],\n",
       " [('Unos', 'di0mp0', 'O'),\n",
       "  ('calamaritos', 'ncmp000', 'B-Comida'),\n",
       "  ('para', 'sps00', 'O'),\n",
       "  ('esta', 'dd0fs0', 'O'),\n",
       "  ('mesa', 'ncfs000', 'O'),\n",
       "  (',', 'Fc', 'O'),\n",
       "  ('camarero', 'i', 'O'),\n",
       "  ('!', 'Fat', 'O')],\n",
       " [('Quiero', 'da0mp0', 'O'),\n",
       "  ('3', 'Z', 'B-Cantidad'),\n",
       "  ('vinos', 'ncmp000', 'B-Comida'),\n",
       "  ('Rivera', 'aq0mp0', 'O'),\n",
       "  ('del', 'spcms', 'O'),\n",
       "  ('Duero', 'ncms000', 'O'),\n",
       "  ('.', 'Fp', 'O')],\n",
       " [('Vamos', 'rg', 'O'),\n",
       "  ('a', 'sps00', 'O'),\n",
       "  ('querer', 'vmn0000', 'O'),\n",
       "  ('2', 'Z', 'B-Cantidad'),\n",
       "  ('paellas', 'ncmp000', 'B-Comida'),\n",
       "  ('valencianas', 'aq0mpp', 'O'),\n",
       "  ('para', 'sps00', 'O'),\n",
       "  ('la', 'da0fs0', 'O'),\n",
       "  ('familia', 'ncfs000', 'O'),\n",
       "  ('entera', 'aq0fs0', 'O'),\n",
       "  ('.', 'Fp', 'O')]]"
      ]
     },
     "execution_count": 151,
     "metadata": {},
     "output_type": "execute_result"
    }
   ],
   "source": [
    "process_iob_tags(document4, naive_bayes_chunker)"
   ]
  },
  {
   "cell_type": "code",
   "execution_count": 152,
   "metadata": {},
   "outputs": [
    {
     "data": {
      "text/plain": [
       "[{'Cantidad': '3', 'Comida': 'shawarmas', 'Ingredientes': 'cordero'},\n",
       " {'Comida': 'calamaritos'},\n",
       " {'Cantidad': '3', 'Comida': 'vinos'},\n",
       " {'Cantidad': '2', 'Comida': 'paellas'}]"
      ]
     },
     "execution_count": 152,
     "metadata": {},
     "output_type": "execute_result"
    }
   ],
   "source": [
    "process_order(document4, naive_bayes_chunker)"
   ]
  },
  {
   "cell_type": "markdown",
   "metadata": {},
   "source": [
    "### 4.3 Conclusion"
   ]
  },
  {
   "cell_type": "markdown",
   "metadata": {},
   "source": [
    "Ambos clasificadores han conseguido resultados similares, el modelo clasificador maxent ha sido capaz de etiquetar 'paella valenciana' como un solo concepto de comida, pero tambien ha clasificado mal 'Duero' como ingrediente. \n",
    "\n",
    "No ha quedado claro del todo cual de los dos seria mejor para un modelo de produccion, y tambien tenemos que tener en cuenta las grandes limitaciones que tenemos, el CESS corpus no es lo suficientemente grande para entrenar las etiquetas y los corpus de ejemplos usados para el entrenamiento de los modelos tampoco ha sido muy grande, aunque si que podriamos decir que en caso de que tuvieramos que sacar un modelo a produccion este seria o bien un clasificador Mxent o un clasificador Naive Bayes."
   ]
  },
  {
   "cell_type": "code",
   "execution_count": null,
   "metadata": {},
   "outputs": [],
   "source": []
  }
 ],
 "metadata": {
  "kernelspec": {
   "display_name": "Python 3",
   "language": "python",
   "name": "python3"
  },
  "language_info": {
   "codemirror_mode": {
    "name": "ipython",
    "version": 3
   },
   "file_extension": ".py",
   "mimetype": "text/x-python",
   "name": "python",
   "nbconvert_exporter": "python",
   "pygments_lexer": "ipython3",
   "version": "3.7.6"
  }
 },
 "nbformat": 4,
 "nbformat_minor": 4
}
